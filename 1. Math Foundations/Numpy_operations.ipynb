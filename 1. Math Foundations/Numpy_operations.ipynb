{
 "cells": [
  {
   "cell_type": "markdown",
   "metadata": {},
   "source": [
    "# NumPy Operations\n",
    "\n",
    "---"
   ]
  },
  {
   "cell_type": "markdown",
   "metadata": {},
   "source": [
    "## Vectors and matrices"
   ]
  },
  {
   "cell_type": "code",
   "execution_count": 8,
   "metadata": {
    "collapsed": false,
    "jupyter": {
     "outputs_hidden": false
    }
   },
   "outputs": [
    {
     "name": "stdout",
     "output_type": "stream",
     "text": [
      "Type/Class of this object: <class 'numpy.ndarray'>\n",
      "Here is the vector\n",
      "--------------------\n",
      " [1 2 3]\n"
     ]
    }
   ],
   "source": [
    "my_list = [1,2,3]\n",
    "import numpy as np\n",
    "arr = np.array(my_list)\n",
    "print(\"Type/Class of this object:\",type(arr))\n",
    "print(\"Here is the vector\\n--------------------\\n\",arr)"
   ]
  },
  {
   "cell_type": "code",
   "execution_count": 9,
   "metadata": {
    "collapsed": false,
    "jupyter": {
     "outputs_hidden": false
    }
   },
   "outputs": [
    {
     "name": "stdout",
     "output_type": "stream",
     "text": [
      "Type/Class of this object: <class 'numpy.ndarray'>\n",
      "Here is the matrix\n",
      "----------\n",
      " [[1 2 3]\n",
      " [4 5 6]\n",
      " [7 8 9]] \n",
      "----------\n",
      "Dimension of this matrix: 2\n",
      "Size of this matrix: 9\n",
      "Shape of this matrix: (3, 3)\n",
      "Data type of this matrix: int64\n",
      "Data type of the modified matrix: float64\n",
      "\n",
      "\n",
      "Even tuples can be converted to ndarrays...\n",
      "We write b = np.array([(1.5,2,3), (4,5,6)])\n",
      "Matrix made from tuples, not lists\n",
      "---------------------------------------\n",
      "[[1.5 2.  3. ]\n",
      " [4.  5.  6. ]]\n"
     ]
    }
   ],
   "source": [
    "my_mat = [[1,2,3],[4,5,6],[7,8,9]]\n",
    "mat = np.array(my_mat)\n",
    "print(\"Type/Class of this object:\",type(mat))\n",
    "print(\"Here is the matrix\\n----------\\n\",mat,\"\\n----------\")\n",
    "print(\"Dimension of this matrix: \",mat.ndim,sep='') #ndim gives the dimensison, 2 for a matrix, 1 for a vector\n",
    "print(\"Size of this matrix: \", mat.size,sep='') #size gives the total number of elements\n",
    "print(\"Shape of this matrix: \", mat.shape,sep='') #shape gives the number of elements along each axes (dimension)\n",
    "print(\"Data type of this matrix: \", mat.dtype,sep='') #dtype gives the data type contained in the array\n",
    "\n",
    "my_mat = [[1.1,2,3],[4,5.2,6],[7,8.3,9]]\n",
    "mat = np.array(my_mat)\n",
    "print(\"Data type of the modified matrix: \", mat.dtype,sep='') #dtype gives the data type contained in the array\n",
    "print(\"\\n\\nEven tuples can be converted to ndarrays...\")\n",
    "\n",
    "b = np.array([(1.5,2,3), (4,5,6)])\n",
    "print(\"We write b = np.array([(1.5,2,3), (4,5,6)])\")\n",
    "print(\"Matrix made from tuples, not lists\\n---------------------------------------\")\n",
    "print(b)"
   ]
  },
  {
   "cell_type": "markdown",
   "metadata": {},
   "source": [
    "## 'arange' and 'linspace'"
   ]
  },
  {
   "cell_type": "code",
   "execution_count": 10,
   "metadata": {
    "collapsed": false,
    "jupyter": {
     "outputs_hidden": false
    }
   },
   "outputs": [
    {
     "name": "stdout",
     "output_type": "stream",
     "text": [
      "A series of numbers: [ 5  6  7  8  9 10 11 12 13 14 15]\n"
     ]
    }
   ],
   "source": [
    "print(\"A series of numbers:\",np.arange(5,16)) # A series of numbers from low to high"
   ]
  },
  {
   "cell_type": "code",
   "execution_count": 11,
   "metadata": {
    "collapsed": false,
    "jupyter": {
     "outputs_hidden": false
    }
   },
   "outputs": [
    {
     "name": "stdout",
     "output_type": "stream",
     "text": [
      "Numbers spaced apart by 2: [ 0  2  4  6  8 10]\n"
     ]
    }
   ],
   "source": [
    "print(\"Numbers spaced apart by 2:\",np.arange(0,11,2)) # Numbers spaced apart by 2"
   ]
  },
  {
   "cell_type": "code",
   "execution_count": 12,
   "metadata": {
    "collapsed": false,
    "jupyter": {
     "outputs_hidden": false
    }
   },
   "outputs": [
    {
     "name": "stdout",
     "output_type": "stream",
     "text": [
      "Numbers spaced apart by float: [ 0.   2.5  5.   7.5 10. ]\n"
     ]
    }
   ],
   "source": [
    "print(\"Numbers spaced apart by float:\",np.arange(0,11,2.5)) # Numbers spaced apart by 2.5"
   ]
  },
  {
   "cell_type": "code",
   "execution_count": 13,
   "metadata": {
    "collapsed": false,
    "jupyter": {
     "outputs_hidden": false
    }
   },
   "outputs": [
    {
     "name": "stdout",
     "output_type": "stream",
     "text": [
      "Every 5th number from 50 in reverse order\n",
      " [50 45 40 35 30 25 20 15 10  5  0]\n"
     ]
    }
   ],
   "source": [
    "print(\"Every 5th number from 50 in reverse order\\n\",np.arange(50,-1,-5))"
   ]
  },
  {
   "cell_type": "code",
   "execution_count": 14,
   "metadata": {
    "collapsed": false,
    "jupyter": {
     "outputs_hidden": false
    }
   },
   "outputs": [
    {
     "name": "stdout",
     "output_type": "stream",
     "text": [
      "21 linearly spaced numbers between 1 and 5\n",
      "--------------------------------------------\n",
      "[1.  1.2 1.4 1.6 1.8 2.  2.2 2.4 2.6 2.8 3.  3.2 3.4 3.6 3.8 4.  4.2 4.4\n",
      " 4.6 4.8 5. ]\n"
     ]
    }
   ],
   "source": [
    "print(\"21 linearly spaced numbers between 1 and 5\\n--------------------------------------------\")\n",
    "print(np.linspace(1,5,21))"
   ]
  },
  {
   "cell_type": "markdown",
   "metadata": {},
   "source": [
    "## Zeroes, Ones, empty, and Identity matrix"
   ]
  },
  {
   "cell_type": "code",
   "execution_count": 15,
   "metadata": {
    "collapsed": false,
    "jupyter": {
     "outputs_hidden": false
    }
   },
   "outputs": [
    {
     "name": "stdout",
     "output_type": "stream",
     "text": [
      "Vector of zeroes\n",
      "---------------------\n",
      "[0. 0. 0. 0. 0.]\n",
      "Matrix of zeroes\n",
      "--------------------\n",
      "[[0. 0. 0. 0.]\n",
      " [0. 0. 0. 0.]\n",
      " [0. 0. 0. 0.]]\n"
     ]
    }
   ],
   "source": [
    "print(\"Vector of zeroes\\n---------------------\")\n",
    "print(np.zeros(5))\n",
    "print(\"Matrix of zeroes\\n--------------------\")\n",
    "print(np.zeros((3,4))) # Notice Tuples"
   ]
  },
  {
   "cell_type": "code",
   "execution_count": 16,
   "metadata": {
    "collapsed": false,
    "jupyter": {
     "outputs_hidden": false
    }
   },
   "outputs": [
    {
     "name": "stdout",
     "output_type": "stream",
     "text": [
      "Vector of ones\n",
      "---------------------\n",
      "[1. 1. 1. 1. 1.]\n",
      "Matrix of ones\n",
      "---------------------\n",
      "[[1. 1.]\n",
      " [1. 1.]\n",
      " [1. 1.]\n",
      " [1. 1.]\n",
      " [1. 1.]]\n",
      "Matrix of 5's\n",
      "---------------------\n",
      "[[5. 5. 5. 5. 5.]\n",
      " [5. 5. 5. 5. 5.]\n",
      " [5. 5. 5. 5. 5.]]\n"
     ]
    }
   ],
   "source": [
    "print(\"Vector of ones\\n---------------------\")\n",
    "print(np.ones(5))\n",
    "print(\"Matrix of ones\\n---------------------\")\n",
    "print(np.ones((5,2))) # Note matrix dimension specified by Tuples\n",
    "print(\"Matrix of 5's\\n---------------------\")\n",
    "print(5*np.ones((3,5)))"
   ]
  },
  {
   "cell_type": "code",
   "execution_count": 17,
   "metadata": {
    "collapsed": false,
    "jupyter": {
     "outputs_hidden": false
    }
   },
   "outputs": [
    {
     "name": "stdout",
     "output_type": "stream",
     "text": [
      "Empty matrix\n",
      "-------------\n",
      " [[5. 5. 5. 5. 5.]\n",
      " [5. 5. 5. 5. 5.]\n",
      " [5. 5. 5. 5. 5.]]\n"
     ]
    }
   ],
   "source": [
    "print(\"Empty matrix\\n-------------\\n\", np.empty((3,5)))"
   ]
  },
  {
   "cell_type": "code",
   "execution_count": 18,
   "metadata": {
    "collapsed": false,
    "jupyter": {
     "outputs_hidden": false
    }
   },
   "outputs": [
    {
     "name": "stdout",
     "output_type": "stream",
     "text": [
      "Identity matrix of dimension (4, 4)\n",
      "[[1. 0. 0. 0.]\n",
      " [0. 1. 0. 0.]\n",
      " [0. 0. 1. 0.]\n",
      " [0. 0. 0. 1.]]\n"
     ]
    }
   ],
   "source": [
    "mat1 = np.eye(4) \n",
    "print(\"Identity matrix of dimension\", mat1.shape)\n",
    "print(mat1)"
   ]
  },
  {
   "cell_type": "markdown",
   "metadata": {},
   "source": [
    "## Random number generation"
   ]
  },
  {
   "cell_type": "code",
   "execution_count": 19,
   "metadata": {
    "collapsed": false,
    "jupyter": {
     "outputs_hidden": false
    }
   },
   "outputs": [
    {
     "name": "stdout",
     "output_type": "stream",
     "text": [
      "Random number generation (from Uniform distribution)\n",
      "[[0.63195769 0.85123028 0.45222944]\n",
      " [0.17727252 0.64567712 0.06599575]]\n"
     ]
    }
   ],
   "source": [
    "print(\"Random number generation (from Uniform distribution)\")\n",
    "print(np.random.rand(2,3)) # 2 by 3 matrix with random numbers ranging from 0 to 1, Note no Tuple is necessary "
   ]
  },
  {
   "cell_type": "code",
   "execution_count": 20,
   "metadata": {
    "collapsed": false,
    "jupyter": {
     "outputs_hidden": false
    }
   },
   "outputs": [
    {
     "name": "stdout",
     "output_type": "stream",
     "text": [
      "Numbers from Normal distribution with zero mean and standard deviation 1 i.e. standard normal\n",
      "[[ 0.3964881  -0.33345229  1.33380412]\n",
      " [-1.20473937 -0.68882735  0.79445645]\n",
      " [ 1.53200579 -0.16900179 -1.32793208]\n",
      " [ 0.51002938  0.0883071  -0.03239413]]\n"
     ]
    }
   ],
   "source": [
    "print(\"Numbers from Normal distribution with zero mean and standard deviation 1 i.e. standard normal\")\n",
    "print(np.random.randn(4,3))"
   ]
  },
  {
   "cell_type": "code",
   "execution_count": 21,
   "metadata": {
    "collapsed": false,
    "jupyter": {
     "outputs_hidden": false
    }
   },
   "outputs": [
    {
     "name": "stdout",
     "output_type": "stream",
     "text": [
      "Random integer vector: [89  3 33 96 18 61 19 60 28 90]\n",
      "\n",
      "Random integer matrix\n",
      "[[73 95 76  3]\n",
      " [ 6 84 43  4]\n",
      " [ 4  6  4 52]\n",
      " [31 23 55 89]]\n",
      "\n",
      "20 samples drawn from a dice throw: [5 2 4 4 6 5 5 1 3 5 3 5 3 2 3 5 5 3 2 5]\n"
     ]
    }
   ],
   "source": [
    "print(\"Random integer vector:\",np.random.randint(1,100,10)) #randint (low, high, # of samples to be drawn)\n",
    "print (\"\\nRandom integer matrix\")\n",
    "print(np.random.randint(1,100,(4,4))) #randint (low, high, # of samples to be drawn in a tuple to form a matrix)\n",
    "print(\"\\n20 samples drawn from a dice throw:\",np.random.randint(1,7,20)) # 20 samples drawn from a dice throw"
   ]
  },
  {
   "cell_type": "markdown",
   "metadata": {},
   "source": [
    "## Reshaping, min, max, sort"
   ]
  },
  {
   "cell_type": "code",
   "execution_count": 22,
   "metadata": {
    "collapsed": false,
    "jupyter": {
     "outputs_hidden": false
    }
   },
   "outputs": [
    {
     "name": "stdout",
     "output_type": "stream",
     "text": [
      "Shape of a: (30,)\n",
      "Shape of b: (2, 3, 5)\n",
      "Shape of c: (6, 5)\n",
      "\n",
      "a looks like\n",
      " -------------------- \n",
      " [47 29 68 47 44 40  2 46 64 23  7 59 49 64 62 76 29 33 71 61  7 55 72 17\n",
      " 24 29 29 63 27 23] \n",
      " --------------------\n",
      "\n",
      "b looks like\n",
      " -------------------- \n",
      " [[[47 29 68 47 44]\n",
      "  [40  2 46 64 23]\n",
      "  [ 7 59 49 64 62]]\n",
      "\n",
      " [[76 29 33 71 61]\n",
      "  [ 7 55 72 17 24]\n",
      "  [29 29 63 27 23]]] \n",
      " --------------------\n",
      "\n",
      "c looks like\n",
      " -------------------- \n",
      " [[47 29 68 47 44]\n",
      " [40  2 46 64 23]\n",
      " [ 7 59 49 64 62]\n",
      " [76 29 33 71 61]\n",
      " [ 7 55 72 17 24]\n",
      " [29 29 63 27 23]] \n",
      " --------------------\n",
      "\n",
      "Vector of random integers\n",
      " -------------------------------------------------- \n",
      " [ 8 65 72 91 15 92 69 36  3 84]\n",
      "\n",
      "Here is the sorted vector\n",
      " -------------------------------------------------- \n",
      " [ 3  8 15 36 65 69 72 84 91 92]\n",
      "\n",
      "5x5 Matrix of random integers\n",
      " -------------------------------------------------- \n",
      " [[90 12 64 36 24]\n",
      " [22 20 69 72 12]\n",
      " [20 72 68 42  6]\n",
      " [90 32 83  1 68]\n",
      " [17 96 42 49 40]]\n",
      "\n",
      "Here is the sorted matrix along each row\n",
      " -------------------------------------------------- \n",
      " [[12 24 36 64 90]\n",
      " [12 20 22 69 72]\n",
      " [ 6 20 42 68 72]\n",
      " [ 1 32 68 83 90]\n",
      " [17 40 42 49 96]]\n",
      "\n",
      "Here is the sorted matrix along each column\n",
      " -------------------------------------------------- \n",
      " [[17 12 42  1  6]\n",
      " [20 20 64 36 12]\n",
      " [22 32 68 42 24]\n",
      " [90 72 69 49 40]\n",
      " [90 96 83 72 68]]\n"
     ]
    }
   ],
   "source": [
    "from numpy.random import randint as ri\n",
    "a = ri(1,100,30)\n",
    "b = a.reshape(2,3,5)\n",
    "c = a.reshape(6,5)\n",
    "print (\"Shape of a:\", a.shape)\n",
    "print (\"Shape of b:\", b.shape)\n",
    "print (\"Shape of c:\", c.shape)\n",
    "print(\"\\na looks like\\n\",'-'*20,\"\\n\",a,\"\\n\",'-'*20)\n",
    "print(\"\\nb looks like\\n\",'-'*20,\"\\n\",b,\"\\n\",'-'*20)\n",
    "print(\"\\nc looks like\\n\",'-'*20,\"\\n\",c,\"\\n\",'-'*20)\n",
    "\n",
    "A = ri(1,100,10) # Vector of random interegrs\n",
    "print(\"\\nVector of random integers\\n\",'-'*50,\"\\n\",A)\n",
    "print(\"\\nHere is the sorted vector\\n\",'-'*50,\"\\n\",np.sort(A, kind='mergesort'))\n",
    "\n",
    "M = ri(1,100,25).reshape(5,5) # Matrix of random interegrs\n",
    "print(\"\\n5x5 Matrix of random integers\\n\",'-'*50,\"\\n\",M)\n",
    "print(\"\\nHere is the sorted matrix along each row\\n\",'-'*50,\"\\n\",np.sort(M, kind='mergesort')) # Default axis =1\n",
    "print(\"\\nHere is the sorted matrix along each column\\n\",'-'*50,\"\\n\",np.sort(M, axis=0, kind='mergesort'))"
   ]
  },
  {
   "cell_type": "code",
   "execution_count": 23,
   "metadata": {
    "collapsed": false,
    "jupyter": {
     "outputs_hidden": false
    }
   },
   "outputs": [
    {
     "name": "stdout",
     "output_type": "stream",
     "text": [
      "Max of a: 76\n",
      "Max of b: 76\n",
      "Max of a location: 15\n",
      "Max of b location: 15\n",
      "Max of c location: 15\n"
     ]
    }
   ],
   "source": [
    "print(\"Max of a:\", a.max())\n",
    "print(\"Max of b:\", b.max())\n",
    "print(\"Max of a location:\", a.argmax())\n",
    "print(\"Max of b location:\", b.argmax())\n",
    "print(\"Max of c location:\", b.argmax())"
   ]
  },
  {
   "cell_type": "markdown",
   "metadata": {},
   "source": [
    "## Indexing and slicing"
   ]
  },
  {
   "cell_type": "code",
   "execution_count": 24,
   "metadata": {
    "collapsed": false,
    "jupyter": {
     "outputs_hidden": false
    }
   },
   "outputs": [
    {
     "name": "stdout",
     "output_type": "stream",
     "text": [
      "Array: [ 0  1  2  3  4  5  6  7  8  9 10]\n",
      "Element at 7th index is: 7\n",
      "Elements from 3rd to 5th index are: [3 4 5]\n",
      "Elements up to 4th index are: [0 1 2 3]\n",
      "Elements from last backwards are: [10  9  8  7  6  5  4  3  2  1  0]\n",
      "3 Elements from last backwards are: [10  8  6]\n",
      "New array: [ 0  2  4  6  8 10 12 14 16 18 20]\n",
      "Elements at 2nd, 4th, and 9th index are: [ 4  8 18]\n"
     ]
    }
   ],
   "source": [
    "arr = np.arange(0,11)\n",
    "print(\"Array:\",arr)\n",
    "print(\"Element at 7th index is:\", arr[7])\n",
    "print(\"Elements from 3rd to 5th index are:\", arr[3:6])\n",
    "print(\"Elements up to 4th index are:\", arr[:4])\n",
    "print(\"Elements from last backwards are:\", arr[-1::-1])\n",
    "print(\"3 Elements from last backwards are:\", arr[-1:-6:-2])\n",
    "\n",
    "arr = np.arange(0,21,2)\n",
    "print(\"New array:\",arr)\n",
    "print(\"Elements at 2nd, 4th, and 9th index are:\", arr[[2,4,9]]) # Pass a list as a index to subset"
   ]
  },
  {
   "cell_type": "code",
   "execution_count": 25,
   "metadata": {
    "collapsed": false,
    "jupyter": {
     "outputs_hidden": false
    }
   },
   "outputs": [
    {
     "name": "stdout",
     "output_type": "stream",
     "text": [
      "Matrix of random 2-digit numbers\n",
      "--------------------------------\n",
      " [[12 84 26 19 64]\n",
      " [47 98 91 46 35]\n",
      " [15 58 32 38 33]]\n",
      "\n",
      "Double bracket indexing\n",
      "------------------------\n",
      "Element in row index 1 and column index 2: 91\n",
      "\n",
      "Single bracket with comma indexing\n",
      "----------------------------------\n",
      "Element in row index 1 and column index 2: 91\n",
      "\n",
      "Row or column extract\n",
      "----------------------\n",
      "Entire row at index 2: [15 58 32 38 33]\n",
      "Entire column at index 3: [19 46 38]\n",
      "\n",
      "Subsetting sub-matrices\n",
      "--------------------------\n",
      "Matrix with row indices 1 and 2 and column indices 3 and 4\n",
      " [[46 35]\n",
      " [38 33]]\n",
      "Matrix with row indices 0 and 1 and column indices 1 and 3\n",
      " [[84 19]\n",
      " [98 46]]\n"
     ]
    }
   ],
   "source": [
    "mat = np.array(ri(10,100,15)).reshape(3,5)\n",
    "print(\"Matrix of random 2-digit numbers\\n--------------------------------\\n\",mat)\n",
    "\n",
    "print(\"\\nDouble bracket indexing\\n------------------------\")\n",
    "print(\"Element in row index 1 and column index 2:\", mat[1][2])\n",
    "\n",
    "print(\"\\nSingle bracket with comma indexing\\n----------------------------------\")\n",
    "print(\"Element in row index 1 and column index 2:\", mat[1,2])\n",
    "print(\"\\nRow or column extract\\n----------------------\")\n",
    "\n",
    "print(\"Entire row at index 2:\", mat[2])\n",
    "print(\"Entire column at index 3:\", mat[:,3])\n",
    "\n",
    "print(\"\\nSubsetting sub-matrices\\n--------------------------\")\n",
    "print(\"Matrix with row indices 1 and 2 and column indices 3 and 4\\n\", mat[1:3,3:5])\n",
    "print(\"Matrix with row indices 0 and 1 and column indices 1 and 3\\n\", mat[0:2,[1,3]])"
   ]
  },
  {
   "cell_type": "markdown",
   "metadata": {},
   "source": [
    "### Conditional subsetting"
   ]
  },
  {
   "cell_type": "code",
   "execution_count": 26,
   "metadata": {
    "collapsed": false,
    "jupyter": {
     "outputs_hidden": false
    }
   },
   "outputs": [
    {
     "name": "stdout",
     "output_type": "stream",
     "text": [
      "Matrix of random 2-digit numbers\n",
      "--------------------------------\n",
      " [[41 84 13 25 48]\n",
      " [77 68 59 18 91]\n",
      " [86 56 35 70 59]]\n",
      "Elements greater than 50\n",
      " [84 77 68 59 91 86 56 70 59]\n"
     ]
    }
   ],
   "source": [
    "mat = np.array(ri(10,100,15)).reshape(3,5)\n",
    "print(\"Matrix of random 2-digit numbers\\n--------------------------------\\n\",mat)\n",
    "print (\"Elements greater than 50\\n\", mat[mat>50])"
   ]
  },
  {
   "cell_type": "markdown",
   "metadata": {},
   "source": [
    "### Slicing keeps the original reference, be aware of mutating the original array"
   ]
  },
  {
   "cell_type": "code",
   "execution_count": 27,
   "metadata": {
    "collapsed": false,
    "jupyter": {
     "outputs_hidden": false
    }
   },
   "outputs": [
    {
     "name": "stdout",
     "output_type": "stream",
     "text": [
      "Original matrix\n",
      "[[11 12 13]\n",
      " [21 22 23]\n",
      " [31 32 33]]\n",
      "\n",
      "Sliced matrix\n",
      "[[11 12]\n",
      " [21 22]]\n",
      "\n",
      "Change the sliced matrix\n",
      "[[1000   12]\n",
      " [  21   22]]\n",
      "\n",
      "But the original matrix? WHOA! It got changed too!\n",
      "[[1000   12   13]\n",
      " [  21   22   23]\n",
      " [  31   32   33]]\n",
      "\n",
      "Doing it again little differently now...\n",
      "\n",
      "Original matrix\n",
      "[[11 12 13]\n",
      " [21 22 23]\n",
      " [31 32 33]]\n",
      "\n",
      "Sliced matrix\n",
      "[[11 12]\n",
      " [21 22]]\n",
      "\n",
      "Change the sliced matrix\n",
      "[[1000   12]\n",
      " [  21   22]]\n",
      "\n",
      "But the original matrix? NO CHANGE this time:)\n",
      "[[11 12 13]\n",
      " [21 22 23]\n",
      " [31 32 33]]\n"
     ]
    }
   ],
   "source": [
    "mat = np.array([[11,12,13],[21,22,23],[31,32,33]])\n",
    "print(\"Original matrix\")\n",
    "print(mat)\n",
    "mat_slice = mat[:2,:2]\n",
    "print (\"\\nSliced matrix\")\n",
    "print(mat_slice)\n",
    "print (\"\\nChange the sliced matrix\")\n",
    "mat_slice[0,0] = 1000\n",
    "print (mat_slice)\n",
    "print(\"\\nBut the original matrix? WHOA! It got changed too!\")\n",
    "print(mat)\n",
    "\n",
    "# Little different way to create a copy of the slixed matrix\n",
    "print (\"\\nDoing it again little differently now...\\n\")\n",
    "mat = np.array([[11,12,13],[21,22,23],[31,32,33]])\n",
    "print(\"Original matrix\")\n",
    "print(mat)\n",
    "mat_slice = np.array(mat[:2,:2]) # Notice the np.array command to create a new array not just slicing\n",
    "print (\"\\nSliced matrix\")\n",
    "print(mat_slice)\n",
    "print (\"\\nChange the sliced matrix\")\n",
    "mat_slice[0,0] = 1000\n",
    "print (mat_slice)\n",
    "print(\"\\nBut the original matrix? NO CHANGE this time:)\")\n",
    "print(mat)"
   ]
  },
  {
   "cell_type": "markdown",
   "metadata": {},
   "source": [
    "## Array operations (array-array, array-scalar, universal functions)"
   ]
  },
  {
   "cell_type": "code",
   "execution_count": 28,
   "metadata": {
    "collapsed": false,
    "jupyter": {
     "outputs_hidden": false
    }
   },
   "outputs": [
    {
     "name": "stdout",
     "output_type": "stream",
     "text": [
      "\n",
      "1st Matrix of random single-digit numbers\n",
      "----------------------------------------\n",
      " [[4 1 2]\n",
      " [4 8 1]\n",
      " [5 9 7]]\n",
      "\n",
      "2nd Matrix of random single-digit numbers\n",
      "----------------------------------------\n",
      " [[5 2 4]\n",
      " [6 5 3]\n",
      " [1 1 4]]\n",
      "\n",
      "Addition\n",
      "------------------\n",
      " [[ 9  3  6]\n",
      " [10 13  4]\n",
      " [ 6 10 11]]\n",
      "\n",
      "Multiplication\n",
      "------------------\n",
      " [[20  2  8]\n",
      " [24 40  3]\n",
      " [ 5  9 28]]\n",
      "\n",
      "Division\n",
      "------------------\n",
      " [[0.8        0.5        0.5       ]\n",
      " [0.66666667 1.6        0.33333333]\n",
      " [5.         9.         1.75      ]]\n",
      "\n",
      "Lineaer combination: 3*A - 2*B\n",
      "-----------------------------\n",
      " [[ 2 -1 -2]\n",
      " [ 0 14 -3]\n",
      " [13 25 13]]\n",
      "\n",
      "Addition of a scalar (100)\n",
      "-------------------------\n",
      " [[104 101 102]\n",
      " [104 108 101]\n",
      " [105 109 107]]\n",
      "\n",
      "Exponentiation, matrix cubed here\n",
      "----------------------------------------\n",
      " [[ 64   1   8]\n",
      " [ 64 512   1]\n",
      " [125 729 343]]\n",
      "\n",
      "Exponentiation, sq-root using pow function\n",
      "-------------------------------------------\n",
      " [[2.         1.         1.41421356]\n",
      " [2.         2.82842712 1.        ]\n",
      " [2.23606798 3.         2.64575131]]\n"
     ]
    }
   ],
   "source": [
    "mat1 = np.array(ri(1,10,9)).reshape(3,3)\n",
    "mat2 = np.array(ri(1,10,9)).reshape(3,3)\n",
    "print(\"\\n1st Matrix of random single-digit numbers\\n----------------------------------------\\n\",mat1)\n",
    "print(\"\\n2nd Matrix of random single-digit numbers\\n----------------------------------------\\n\",mat2)\n",
    "\n",
    "print(\"\\nAddition\\n------------------\\n\", mat1+mat2)\n",
    "print(\"\\nMultiplication\\n------------------\\n\", mat1*mat2)\n",
    "print(\"\\nDivision\\n------------------\\n\", mat1/mat2)\n",
    "print(\"\\nLineaer combination: 3*A - 2*B\\n-----------------------------\\n\", 3*mat1-2*mat2)\n",
    "\n",
    "print(\"\\nAddition of a scalar (100)\\n-------------------------\\n\", 100+mat1)\n",
    "\n",
    "print(\"\\nExponentiation, matrix cubed here\\n----------------------------------------\\n\", mat1**3)\n",
    "print(\"\\nExponentiation, sq-root using pow function\\n-------------------------------------------\\n\",pow(mat1,0.5))"
   ]
  },
  {
   "cell_type": "markdown",
   "metadata": {},
   "source": [
    "### Broadcasting (super cool feature)"
   ]
  },
  {
   "cell_type": "markdown",
   "metadata": {},
   "source": [
    "NumPy operations are usually done on pairs of arrays on an element-by-element basis. In the simplest case, the two arrays must have exactly the same shape.\n",
    "\n",
    "NumPy’s broadcasting rule relaxes this constraint when the arrays’ shapes meet certain constraints. When operating on two arrays, NumPy compares their shapes element-wise. It starts with the trailing dimensions, and works its way forward. Two dimensions are compatible when\n",
    "\n",
    "* **they are equal, or**\n",
    "* **one of them is 1**\n",
    "\n",
    "If these conditions are not met, a *ValueError: frames* are not aligned exception is thrown, indicating that the arrays have incompatible shapes. The size of the resulting array is the maximum size along each dimension of the input arrays.\n",
    "\n",
    "For more detail, please look up: https://docs.scipy.org/doc/numpy-1.10.1/user/basics.broadcasting.html\n"
   ]
  },
  {
   "cell_type": "code",
   "execution_count": 29,
   "metadata": {
    "collapsed": false,
    "jupyter": {
     "outputs_hidden": false
    }
   },
   "outputs": [
    {
     "name": "stdout",
     "output_type": "stream",
     "text": [
      "[[0. 0. 0.]\n",
      " [0. 0. 0.]\n",
      " [0. 0. 0.]\n",
      " [0. 0. 0.]]\n"
     ]
    }
   ],
   "source": [
    "start = np.zeros((4,3))\n",
    "print(start)"
   ]
  },
  {
   "cell_type": "code",
   "execution_count": 30,
   "metadata": {
    "collapsed": false,
    "jupyter": {
     "outputs_hidden": false
    }
   },
   "outputs": [
    {
     "name": "stdout",
     "output_type": "stream",
     "text": [
      "[1 0 2]\n"
     ]
    }
   ],
   "source": [
    "# create a rank 1 ndarray with 3 values\n",
    "add_rows = np.array([1, 0, 2])\n",
    "print(add_rows)"
   ]
  },
  {
   "cell_type": "code",
   "execution_count": 31,
   "metadata": {
    "collapsed": false,
    "jupyter": {
     "outputs_hidden": false
    }
   },
   "outputs": [
    {
     "name": "stdout",
     "output_type": "stream",
     "text": [
      "[[1. 0. 2.]\n",
      " [1. 0. 2.]\n",
      " [1. 0. 2.]\n",
      " [1. 0. 2.]]\n"
     ]
    }
   ],
   "source": [
    "y = start + add_rows  # add to each row of 'start' using broadcasting\n",
    "print(y)"
   ]
  },
  {
   "cell_type": "code",
   "execution_count": 32,
   "metadata": {
    "collapsed": false,
    "jupyter": {
     "outputs_hidden": false
    }
   },
   "outputs": [
    {
     "name": "stdout",
     "output_type": "stream",
     "text": [
      "[[0]\n",
      " [1]\n",
      " [2]\n",
      " [3]]\n"
     ]
    }
   ],
   "source": [
    "# create an ndarray which is 4 x 1 to broadcast across columns\n",
    "add_cols = np.array([[0,1,2,3]])\n",
    "add_cols = add_cols.T\n",
    "print(add_cols)"
   ]
  },
  {
   "cell_type": "code",
   "execution_count": 33,
   "metadata": {
    "collapsed": false,
    "jupyter": {
     "outputs_hidden": false
    }
   },
   "outputs": [
    {
     "name": "stdout",
     "output_type": "stream",
     "text": [
      "[[0. 0. 0.]\n",
      " [1. 1. 1.]\n",
      " [2. 2. 2.]\n",
      " [3. 3. 3.]]\n"
     ]
    }
   ],
   "source": [
    "# add to each column of 'start' using broadcasting\n",
    "y = start + add_cols \n",
    "print(y)"
   ]
  },
  {
   "cell_type": "code",
   "execution_count": 34,
   "metadata": {
    "collapsed": false,
    "jupyter": {
     "outputs_hidden": false
    }
   },
   "outputs": [
    {
     "name": "stdout",
     "output_type": "stream",
     "text": [
      "[[100. 100. 100.]\n",
      " [100. 100. 100.]\n",
      " [100. 100. 100.]\n",
      " [100. 100. 100.]]\n"
     ]
    }
   ],
   "source": [
    "# this will just broadcast in both dimensions\n",
    "add_scalar = np.array([100])  \n",
    "print(start+add_scalar)"
   ]
  },
  {
   "cell_type": "markdown",
   "metadata": {},
   "source": [
    "### NumPy mathematical functions on array"
   ]
  },
  {
   "cell_type": "code",
   "execution_count": 35,
   "metadata": {
    "collapsed": false,
    "jupyter": {
     "outputs_hidden": false
    }
   },
   "outputs": [
    {
     "name": "stdout",
     "output_type": "stream",
     "text": [
      "\n",
      "1st Matrix of random single-digit numbers\n",
      "----------------------------------------\n",
      " [[7 9 4]\n",
      " [8 3 8]\n",
      " [8 3 9]]\n",
      "\n",
      "2nd Matrix of random single-digit numbers\n",
      "----------------------------------------\n",
      " [[2 4 8]\n",
      " [5 7 6]\n",
      " [4 6 5]]\n",
      "\n",
      "Sq-root of 1st matrix using np\n",
      "------------------\n",
      " [[2.64575131 3.         2.        ]\n",
      " [2.82842712 1.73205081 2.82842712]\n",
      " [2.82842712 1.73205081 3.        ]]\n",
      "\n",
      "Exponential power of 1st matrix using np\n",
      " -------------------------------------------------- \n",
      " [[1096.63315843 8103.08392758   54.59815003]\n",
      " [2980.95798704   20.08553692 2980.95798704]\n",
      " [2980.95798704   20.08553692 8103.08392758]]\n",
      "\n",
      "10-base logarithm on 1st matrix using np\n",
      " -------------------------------------------------- \n",
      " [[0.84509804 0.95424251 0.60205999]\n",
      " [0.90308999 0.47712125 0.90308999]\n",
      " [0.90308999 0.47712125 0.95424251]]\n",
      "\n",
      "Modulo reminder using np\n",
      " -------------------------------------------------- \n",
      " [[1 1 4]\n",
      " [3 3 2]\n",
      " [0 3 4]]\n",
      "\n",
      "Combination of functions by shwoing exponetial decay of a sine wave\n",
      " ----------------------------------------------------------------------\n"
     ]
    },
    {
     "data": {
      "image/png": "[encoded data removed]",
      "text/plain": [
       "<Figure size 640x480 with 1 Axes>"
      ]
     },
     "metadata": {},
     "output_type": "display_data"
    }
   ],
   "source": [
    "mat1 = np.array(ri(1,10,9)).reshape(3,3)\n",
    "mat2 = np.array(ri(1,10,9)).reshape(3,3)\n",
    "print(\"\\n1st Matrix of random single-digit numbers\\n----------------------------------------\\n\",mat1)\n",
    "print(\"\\n2nd Matrix of random single-digit numbers\\n----------------------------------------\\n\",mat2)\n",
    "\n",
    "print(\"\\nSq-root of 1st matrix using np\\n------------------\\n\", np.sqrt(mat1))\n",
    "print(\"\\nExponential power of 1st matrix using np\\n\",'-'*50,\"\\n\", np.exp(mat1))\n",
    "print(\"\\n10-base logarithm on 1st matrix using np\\n\",'-'*50,\"\\n\", np.log10(mat1))\n",
    "print(\"\\nModulo reminder using np\\n\",'-'*50,\"\\n\", np.fmod(mat1,mat2))\n",
    "\n",
    "print(\"\\nCombination of functions by shwoing exponetial decay of a sine wave\\n\",'-'*70)\n",
    "A = np.linspace(0,12*np.pi,1001)\n",
    "import matplotlib.pyplot as plt\n",
    "plt.scatter(x=A,y=100*np.exp(-A/10)*(np.sin(A)))\n",
    "plt.title(\"Exponential decay of sine wave: exp(-x)*sin(x)\")\n",
    "plt.show()"
   ]
  },
  {
   "cell_type": "markdown",
   "metadata": {},
   "source": [
    "### NumPy basic statistics on array"
   ]
  },
  {
   "cell_type": "code",
   "execution_count": 36,
   "metadata": {
    "collapsed": false,
    "jupyter": {
     "outputs_hidden": false
    }
   },
   "outputs": [
    {
     "name": "stdout",
     "output_type": "stream",
     "text": [
      "\n",
      "1st Matrix of random single-digit numbers\n",
      " -------------------------------------------------- \n",
      " [[7 9 2]\n",
      " [7 6 9]\n",
      " [1 6 4]]\n",
      "\n",
      "2nd Matrix of random single-digit numbers\n",
      " -------------------------------------------------- \n",
      " [[7 1 1]\n",
      " [4 2 1]\n",
      " [1 1 9]]\n",
      "\n",
      "Sum of all numbers in 1st matrix\n",
      " -------------------------------------------------- \n",
      " 51\n",
      "\n",
      "Sum of all numbers in columns of 1st matrix\n",
      " -------------------------------------------------- \n",
      " [15 21 15]\n",
      "\n",
      "Sum of all numbers in rows of 1st matrix\n",
      " -------------------------------------------------- \n",
      " [18 22 11]\n",
      "\n",
      "Product of all numbers in rows of 1st matrix\n",
      " -------------------------------------------------- \n",
      " [126 378  24]\n",
      "\n",
      "Product of all numbers in columns of 2nd matrix\n",
      " -------------------------------------------------- \n",
      " [28  2  9]\n",
      "\n",
      "Mean of all numbers in 1st matrix\n",
      " -------------------------------------------------- \n",
      " 5.666666666666667\n",
      "\n",
      "Standard deviation of all numbers in 1st matrix\n",
      " -------------------------------------------------- \n",
      " 2.6666666666666665\n",
      "\n",
      "Modified matrix of random numbers from 1 to 99\n",
      " -------------------------------------------------- \n",
      " [[38 66 20]\n",
      " [74  6 27]\n",
      " [96 58 62]]\n",
      "\n",
      "Standard deviation of all numbers in the modified matrix, a larger number\n",
      " -------------------------------------------------------------------------------- \n",
      " 27.211108842611402\n",
      "\n",
      "Variance of all numbers in the modified matrix, a larger number\n",
      " -------------------------------------------------------------------------------- \n",
      " 740.4444444444445\n",
      "\n",
      "Median of all numbers in the modified matrix\n",
      " ------------------------------------------------------------ \n",
      " 58.0\n",
      "\n",
      "Modified matrix of 50 random numbers from 1 to 99\n",
      " -------------------------------------------------- \n",
      " [[68 32 35 75 41]\n",
      " [99 97 32 13 16]\n",
      " [28 27  6 38 46]\n",
      " [16 91 25 78 66]\n",
      " [77 98 29 32 39]\n",
      " [60 45 33 55  9]\n",
      " [44 85 73 96 58]\n",
      " [66 84 75 64 19]\n",
      " [14 25 97 43 34]\n",
      " [15 29 35 83 75]]\n",
      "\n",
      "Standard deviation along the columns in the modified matrix\n",
      " ------------------------------------------------------------ \n",
      " [28.26676494 30.40082236 26.58571045 24.7549995  20.67873304]\n",
      "\n",
      "Modified matrix of random numbers from 1 to 49\n",
      " -------------------------------------------------- \n",
      " [[58 52 54 23 75]\n",
      " [58 10 53 74 72]\n",
      " [35 97 17 84 82]\n",
      " [29 75 10 98 31]]\n",
      "\n",
      "Flattened and sorted matrix (as vector)\n",
      " -------------------------------------------------- \n",
      " [[10 10 17 23 29 31 35 52 53 54 58 58 72 74 75 75 82 84 97 98]]\n",
      "\n",
      "50th percentile of all numbers in the modified matrix\n",
      " ------------------------------------------------------------ \n",
      " 56.0\n",
      "\n",
      "90th percentile of all numbers in the modified matrix\n",
      " ------------------------------------------------------------ \n",
      " 85.30000000000001\n"
     ]
    }
   ],
   "source": [
    "mat1 = np.array(ri(1,10,9)).reshape(3,3)\n",
    "mat2 = np.array(ri(1,10,9)).reshape(3,3)\n",
    "print(\"\\n1st Matrix of random single-digit numbers\\n\",\"-\"*50,\"\\n\",mat1)\n",
    "print(\"\\n2nd Matrix of random single-digit numbers\\n\",\"-\"*50,\"\\n\",mat2)\n",
    "\n",
    "print(\"\\nSum of all numbers in 1st matrix\\n\",\"-\"*50,\"\\n\",np.sum(mat1))\n",
    "print(\"\\nSum of all numbers in columns of 1st matrix\\n\",\"-\"*50,\"\\n\",np.sum(mat1,axis=0))\n",
    "print(\"\\nSum of all numbers in rows of 1st matrix\\n\",\"-\"*50,\"\\n\",np.sum(mat1,axis=1))\n",
    "print(\"\\nProduct of all numbers in rows of 1st matrix\\n\",\"-\"*50,\"\\n\",np.prod(mat1,axis=1))\n",
    "print(\"\\nProduct of all numbers in columns of 2nd matrix\\n\",\"-\"*50,\"\\n\",np.prod(mat2,axis=0))\n",
    "print(\"\\nMean of all numbers in 1st matrix\\n\",\"-\"*50,\"\\n\",np.mean(mat1))\n",
    "print(\"\\nStandard deviation of all numbers in 1st matrix\\n\",\"-\"*50,\"\\n\",np.std(mat1))\n",
    "\n",
    "mat1 = np.array(ri(1,100,9)).reshape(3,3)\n",
    "print(\"\\nModified matrix of random numbers from 1 to 99\\n\",\"-\"*50,\"\\n\",mat1)\n",
    "print(\"\\nStandard deviation of all numbers in the modified matrix, a larger number\\n\",\"-\"*80,\"\\n\",np.std(mat1))\n",
    "print(\"\\nVariance of all numbers in the modified matrix, a larger number\\n\",\"-\"*80,\"\\n\",np.var(mat1))\n",
    "print(\"\\nMedian of all numbers in the modified matrix\\n\",\"-\"*60,\"\\n\",np.median(mat1))\n",
    "\n",
    "mat2 = np.array(ri(1,100,50)).reshape(10,5)\n",
    "print(\"\\nModified matrix of 50 random numbers from 1 to 99\\n\",\"-\"*50,\"\\n\",mat2)\n",
    "print(\"\\nStandard deviation along the columns in the modified matrix\\n\",\"-\"*60,\"\\n\",np.std(mat2,axis=0))\n",
    "\n",
    "mat1 = np.array(ri(1,100,20)).reshape(4,5)\n",
    "print(\"\\nModified matrix of random numbers from 1 to 49\\n\",\"-\"*50,\"\\n\",mat1)\n",
    "print(\"\\nFlattened and sorted matrix (as vector)\\n\",\"-\"*50,\"\\n\",np.sort(mat1.reshape(1,20)))\n",
    "print(\"\\n50th percentile of all numbers in the modified matrix\\n\",\"-\"*60,\"\\n\",np.percentile(mat1,50))\n",
    "print(\"\\n90th percentile of all numbers in the modified matrix\\n\",\"-\"*60,\"\\n\",np.percentile(mat1,90))"
   ]
  },
  {
   "cell_type": "markdown",
   "metadata": {},
   "source": [
    "### Correlation and covariance"
   ]
  },
  {
   "cell_type": "code",
   "execution_count": 37,
   "metadata": {
    "collapsed": false,
    "jupyter": {
     "outputs_hidden": false
    }
   },
   "outputs": [
    {
     "name": "stdout",
     "output_type": "stream",
     "text": [
      "\n",
      "B is twice that of A plus some random noise\n"
     ]
    },
    {
     "data": {
      "image/png": "[encoded data removed]",
      "text/plain": [
       "<Figure size 640x480 with 1 Axes>"
      ]
     },
     "metadata": {},
     "output_type": "display_data"
    },
    {
     "name": "stdout",
     "output_type": "stream",
     "text": [
      "[[1.         0.60962284]\n",
      " [0.60962284 1.        ]]\n",
      "\n",
      "B is 100 minus twice that of A plus some random noise\n"
     ]
    },
    {
     "data": {
      "image/png": "[encoded data removed]",
      "text/plain": [
       "<Figure size 640x480 with 1 Axes>"
      ]
     },
     "metadata": {},
     "output_type": "display_data"
    },
    {
     "name": "stdout",
     "output_type": "stream",
     "text": [
      "\n",
      "[[ 1.         -0.97239024]\n",
      " [-0.97239024  1.        ]]\n"
     ]
    }
   ],
   "source": [
    "A = ri(1,5,20) # 20 random integeres from a small range (1-10)\n",
    "B = 2*A+5*np.random.randn(20) # B is twice that of A plus some random noise\n",
    "print(\"\\nB is twice that of A plus some random noise\")\n",
    "plt.scatter(A,B) # Scatter plot of B\n",
    "plt.title(\"Scatter plot of A vs. B, expect a small positive correlation\")\n",
    "plt.show()\n",
    "print(np.corrcoef(A,B)) # Correleation coefficient matrix between A and B\n",
    "\n",
    "A = ri(1,50,20) # 20 random integeres from a larger range (1-50)\n",
    "B = 100-2*A+10*np.random.randn(20) # B is 100 minus twice that of A plus some random noise\n",
    "print(\"\\nB is 100 minus twice that of A plus some random noise\")\n",
    "plt.scatter(A,B) # Scatter plot of B\n",
    "plt.title(\"Scatter plot of A vs. B, expect a large negative correlation\")\n",
    "plt.show()\n",
    "print(\"\")\n",
    "print(np.corrcoef(A,B)) # Correleation coefficient matrix between A and B"
   ]
  },
  {
   "cell_type": "markdown",
   "metadata": {},
   "source": [
    "## Linear Algebra Operations"
   ]
  },
  {
   "cell_type": "markdown",
   "metadata": {},
   "source": [
    "### Dot/Inner/Outer products"
   ]
  },
  {
   "cell_type": "code",
   "execution_count": 38,
   "metadata": {
    "collapsed": false,
    "jupyter": {
     "outputs_hidden": false
    }
   },
   "outputs": [
    {
     "name": "stdout",
     "output_type": "stream",
     "text": [
      "\n",
      "1st Matrix of 1-9 single-digit numbers (A)\n",
      " -------------------------------------------------- \n",
      " [[1 2 3]\n",
      " [4 5 6]\n",
      " [7 8 9]]\n",
      "\n",
      "2nd Matrix of random single-digit numbers (B)\n",
      " -------------------------------------------------- \n",
      " [[4 6 2]\n",
      " [9 8 9]\n",
      " [7 8 8]]\n",
      "\n",
      "Dot product of A and B (for 2D arrays it is equivalent to matrix multiplication) \n",
      " -------------------------------------------------------------------------------- \n",
      " [[ 43  46  44]\n",
      " [103 112 101]\n",
      " [163 178 158]]\n",
      "\n",
      "1st Vector of 1-5 numbers (A)\n",
      " -------------------------------------------------- \n",
      " [1 2 3 4 5]\n",
      "\n",
      "2nd Vector of 5 random single-digit numbers (B)\n",
      " -------------------------------------------------- \n",
      " [5 9 1 7 7]\n",
      "\n",
      "Inner product of vectors A and B \n",
      " -------------------------------------------------- \n",
      " 89 (sum of all pairwise elements)\n",
      "\n",
      "Outer product of vectors A and B \n",
      " -------------------------------------------------- \n",
      " [[ 5  9  1  7  7]\n",
      " [10 18  2 14 14]\n",
      " [15 27  3 21 21]\n",
      " [20 36  4 28 28]\n",
      " [25 45  5 35 35]]\n"
     ]
    }
   ],
   "source": [
    "A = np.arange(1,10).reshape(3,3)\n",
    "B = ri(1,10,9).reshape(3,3)\n",
    "print(\"\\n1st Matrix of 1-9 single-digit numbers (A)\\n\",\"-\"*50,\"\\n\",A)\n",
    "print(\"\\n2nd Matrix of random single-digit numbers (B)\\n\",\"-\"*50,\"\\n\",B)\n",
    "\n",
    "print(\"\\nDot product of A and B (for 2D arrays it is equivalent to matrix multiplication) \\n\",\"-\"*80,\"\\n\",np.dot(A,B))\n",
    "\n",
    "A = np.arange(1,6)\n",
    "B = ri(1,10,5)\n",
    "print(\"\\n1st Vector of 1-5 numbers (A)\\n\",\"-\"*50,\"\\n\",A)\n",
    "print(\"\\n2nd Vector of 5 random single-digit numbers (B)\\n\",\"-\"*50,\"\\n\",B)\n",
    "\n",
    "print(\"\\nInner product of vectors A and B \\n\",\"-\"*50,\"\\n\",np.inner(A,B), \"(sum of all pairwise elements)\")\n",
    "print(\"\\nOuter product of vectors A and B \\n\",\"-\"*50,\"\\n\",np.outer(A,B))"
   ]
  },
  {
   "cell_type": "markdown",
   "metadata": {},
   "source": [
    "### Transpose"
   ]
  },
  {
   "cell_type": "code",
   "execution_count": 39,
   "metadata": {
    "collapsed": false,
    "jupyter": {
     "outputs_hidden": false
    }
   },
   "outputs": [
    {
     "name": "stdout",
     "output_type": "stream",
     "text": [
      "\n",
      "3x3 Matrix of random single-digit numbers\n",
      " -------------------------------------------------- \n",
      " [[3 8 8]\n",
      " [3 3 4]\n",
      " [2 5 5]]\n",
      "\n",
      "Matrix transpose\n",
      " -------------------------------------------------- \n",
      " [[3 3 2]\n",
      " [8 3 5]\n",
      " [8 4 5]]\n",
      "\n",
      "3x2 Matrix of random single-digit numbers\n",
      " -------------------------------------------------- \n",
      " [[4 7]\n",
      " [6 5]\n",
      " [4 3]]\n",
      "\n",
      "2x3 Matrix transpose\n",
      " -------------------------------------------------- \n",
      " [[4 6 4]\n",
      " [7 5 3]]\n",
      "\n",
      "Matrix multiplication of B and B-transpose\n",
      " -------------------------------------------------- \n",
      " [[65 59 37]\n",
      " [59 61 39]\n",
      " [37 39 25]]\n"
     ]
    }
   ],
   "source": [
    "A = ri(1,10,9).reshape(3,3)\n",
    "print(\"\\n3x3 Matrix of random single-digit numbers\\n\",\"-\"*50,\"\\n\",A)\n",
    "print(\"\\nMatrix transpose\\n\",\"-\"*50,\"\\n\",np.transpose(A))\n",
    "\n",
    "B = ri(1,10,6).reshape(3,2)\n",
    "print(\"\\n3x2 Matrix of random single-digit numbers\\n\",\"-\"*50,\"\\n\",B)\n",
    "print(\"\\n2x3 Matrix transpose\\n\",\"-\"*50,\"\\n\",np.transpose(B))\n",
    "print(\"\\nMatrix multiplication of B and B-transpose\\n\",\"-\"*50,\"\\n\",np.dot(B, np.transpose(B)))"
   ]
  },
  {
   "cell_type": "markdown",
   "metadata": {},
   "source": [
    "### Trace"
   ]
  },
  {
   "cell_type": "code",
   "execution_count": 40,
   "metadata": {
    "collapsed": false,
    "jupyter": {
     "outputs_hidden": false
    },
    "scrolled": true
   },
   "outputs": [
    {
     "name": "stdout",
     "output_type": "stream",
     "text": [
      "\n",
      "4x4 Matrix of random single-digit numbers\n",
      " -------------------------------------------------- \n",
      " [[4 7 9 8]\n",
      " [2 1 4 8]\n",
      " [4 1 6 3]\n",
      " [8 8 5 8]]\n",
      "\n",
      "Matrix trace\n",
      " -------------------------------------------------- \n",
      " 19\n",
      "\n",
      "Matrix trace with ofset +1 (upper triangle)\n",
      " -------------------------------------------------- \n",
      " 14\n",
      "\n",
      "Matrix trace with ofset -1 (lower triangle)\n",
      " -------------------------------------------------- \n",
      " 8\n"
     ]
    }
   ],
   "source": [
    "A = ri(1,10,16).reshape(4,4)\n",
    "print(\"\\n4x4 Matrix of random single-digit numbers\\n\",\"-\"*50,\"\\n\",A)\n",
    "print(\"\\nMatrix trace\\n\",\"-\"*50,\"\\n\",np.trace(A))\n",
    "print(\"\\nMatrix trace with ofset +1 (upper triangle)\\n\",\"-\"*50,\"\\n\",np.trace(A,offset=1))\n",
    "print(\"\\nMatrix trace with ofset -1 (lower triangle)\\n\",\"-\"*50,\"\\n\",np.trace(A,offset=-1))"
   ]
  },
  {
   "cell_type": "markdown",
   "metadata": {},
   "source": [
    "### Singular value decomposition (SVD)"
   ]
  },
  {
   "cell_type": "code",
   "execution_count": 41,
   "metadata": {
    "collapsed": false,
    "jupyter": {
     "outputs_hidden": false
    }
   },
   "outputs": [
    {
     "name": "stdout",
     "output_type": "stream",
     "text": [
      "Original matrix\n",
      " [[4 8 8]\n",
      " [7 6 3]\n",
      " [3 1 7]]\n",
      "\n",
      "\n",
      "u: [[-0.72986095  0.12969329 -0.67118004]\n",
      " [-0.55119854 -0.69238581  0.46559861]\n",
      " [-0.40433052  0.7097757   0.57683212]]\n",
      "\n",
      "\n",
      "Singular values, s: [16.17478713  5.10520081  3.0517513 ]\n",
      "\n",
      "\n",
      "v: [[-0.49402969 -0.59045039 -0.63820295]\n",
      " [-0.43065895 -0.47147858  0.76957184]\n",
      " [ 0.75529301 -0.65503915  0.02135832]]\n",
      "\n",
      "\n",
      "Reconstruction of A, u*s*v\n",
      " [[4. 8. 8.]\n",
      " [7. 6. 3.]\n",
      " [3. 1. 7.]]\n"
     ]
    }
   ],
   "source": [
    "A = np.random.randint(1,10,9).reshape(3,3)\n",
    "print(\"Original matrix\\n\",A)\n",
    "print(\"\\n\")\n",
    "u,s,v=np.linalg.svd(A,compute_uv=1,full_matrices=True)\n",
    "print(\"u:\",u)\n",
    "print(\"\\n\")\n",
    "print(\"Singular values, s:\",s)\n",
    "print(\"\\n\")\n",
    "print(\"v:\",v)\n",
    "print(\"\\n\")\n",
    "print (\"Reconstruction of A, u*s*v\\n\",np.dot(u,np.dot(np.diag(s),v)))"
   ]
  },
  {
   "cell_type": "markdown",
   "metadata": {},
   "source": [
    "### QR decomposition/factorization"
   ]
  },
  {
   "cell_type": "code",
   "execution_count": 42,
   "metadata": {
    "collapsed": false,
    "jupyter": {
     "outputs_hidden": false
    }
   },
   "outputs": [
    {
     "name": "stdout",
     "output_type": "stream",
     "text": [
      "Original matrix\n",
      " [[2 6 2]\n",
      " [3 4 8]\n",
      " [1 3 9]]\n",
      "\n",
      "\n",
      "Q: [[-5.34522484e-01  7.17137166e-01 -4.47213595e-01]\n",
      " [-8.01783726e-01 -5.97614305e-01  1.11022302e-16]\n",
      " [-2.67261242e-01  3.58568583e-01  8.94427191e-01]]\n",
      "\n",
      "\n",
      "R: [[-3.74165739 -7.21605353 -9.88866595]\n",
      " [ 0.          2.98807152 -0.11952286]\n",
      " [ 0.          0.          7.15541753]]\n",
      "\n",
      "\n",
      "Reconstruction of A, Q*R\n",
      " [[2. 6. 2.]\n",
      " [3. 4. 8.]\n",
      " [1. 3. 9.]]\n"
     ]
    }
   ],
   "source": [
    "A = np.random.randint(1,10,9).reshape(3,3)\n",
    "print(\"Original matrix\\n\",A)\n",
    "print(\"\\n\")\n",
    "q,r=np.linalg.qr(A)\n",
    "print(\"Q:\",q)\n",
    "print(\"\\n\")\n",
    "print(\"R:\",r)\n",
    "print(\"\\n\")\n",
    "print (\"Reconstruction of A, Q*R\\n\",np.dot(q,r))"
   ]
  },
  {
   "cell_type": "markdown",
   "metadata": {},
   "source": [
    "### Eigenvalues and eigenvectors"
   ]
  },
  {
   "cell_type": "code",
   "execution_count": 43,
   "metadata": {
    "collapsed": false,
    "jupyter": {
     "outputs_hidden": false
    }
   },
   "outputs": [
    {
     "name": "stdout",
     "output_type": "stream",
     "text": [
      "Original matrix\n",
      " [[ 1.11110243 -1.89517233 -0.81884676]\n",
      " [-0.09084393  0.9303594   0.09210661]\n",
      " [-0.09850794 -1.24656632 -0.03242546]]\n",
      "\n",
      "\n",
      "Eigenvalues:\n",
      " [ 1.38225376  0.68090768 -0.05412507]\n",
      "\n",
      "\n",
      "Eigenvectors:\n",
      " [[-0.97982945  0.37434463  0.54346504]\n",
      " [ 0.17877279  0.43809448 -0.02834238]\n",
      " [-0.08930022 -0.81727555  0.83895319]]\n"
     ]
    }
   ],
   "source": [
    "A = np.random.randn(9).reshape(3,3)\n",
    "print(\"Original matrix\\n\",A)\n",
    "print(\"\\n\")\n",
    "w,v=np.linalg.eig(A)\n",
    "print(\"Eigenvalues:\\n\",w)\n",
    "print(\"\\n\")\n",
    "print(\"Eigenvectors:\\n\",v)"
   ]
  },
  {
   "cell_type": "markdown",
   "metadata": {},
   "source": [
    "### Linear equation solving, matrix inverse, linear least suqare\n",
    "\n",
    "You can directly solve linear system of equations using NumPy writing only one line of code.\n",
    "\n",
    "Suppose you want to solve the following set of equations for (x,y,z). It is easy to see that (2,1,5) are the unique solutions.\n",
    "\n",
    "2*x* + 5*y* + *z* = 14;\n",
    "\n",
    "3*x* - 2*y* - *z* = -1;\n",
    "\n",
    "*x* - 3*y* + *z* = 4"
   ]
  },
  {
   "cell_type": "code",
   "execution_count": 44,
   "metadata": {
    "collapsed": false,
    "jupyter": {
     "outputs_hidden": false
    }
   },
   "outputs": [
    {
     "name": "stdout",
     "output_type": "stream",
     "text": [
      "The solutions are: [2. 1. 5.]\n"
     ]
    }
   ],
   "source": [
    "A = np.array([[2,5,1],[3,-2,-1],[1,-3,1]])\n",
    "B = np.array([14,-1,4])\n",
    "x = np.linalg.solve(A,B)\n",
    "\n",
    "print(\"The solutions are:\",x)"
   ]
  },
  {
   "cell_type": "markdown",
   "metadata": {},
   "source": [
    "** Linear least squares can be calculated easily as a solution to a linear regression problem **"
   ]
  },
  {
   "cell_type": "code",
   "execution_count": 45,
   "metadata": {
    "collapsed": false,
    "jupyter": {
     "outputs_hidden": false
    }
   },
   "outputs": [
    {
     "name": "stdout",
     "output_type": "stream",
     "text": [
      "[ 1  2  3  4  5  6  7  8  9 10]\n",
      "[ 1.81078498  2.47853716  6.09759233  6.19282998  8.92574962 10.41690192\n",
      " 11.64707124 16.4701996  16.18355471 18.21010052]\n"
     ]
    }
   ],
   "source": [
    "x = np.arange(1,11,1)\n",
    "y = 2*x+np.random.randn(10)-1\n",
    "print(x)\n",
    "print(y)"
   ]
  },
  {
   "cell_type": "code",
   "execution_count": 46,
   "metadata": {
    "collapsed": false,
    "jupyter": {
     "outputs_hidden": false
    }
   },
   "outputs": [
    {
     "name": "stdout",
     "output_type": "stream",
     "text": [
      "[[ 1.  1.]\n",
      " [ 2.  1.]\n",
      " [ 3.  1.]\n",
      " [ 4.  1.]\n",
      " [ 5.  1.]\n",
      " [ 6.  1.]\n",
      " [ 7.  1.]\n",
      " [ 8.  1.]\n",
      " [ 9.  1.]\n",
      " [10.  1.]]\n"
     ]
    }
   ],
   "source": [
    "A = np.vstack([x, np.ones(len(x))]).T\n",
    "print(A)"
   ]
  },
  {
   "cell_type": "code",
   "execution_count": 47,
   "metadata": {
    "collapsed": false,
    "jupyter": {
     "outputs_hidden": false
    }
   },
   "outputs": [
    {
     "name": "stdout",
     "output_type": "stream",
     "text": [
      "Coefficient:1.8984598489856488\n",
      "intercept:-0.5981969633126624\n"
     ]
    },
    {
     "name": "stderr",
     "output_type": "stream",
     "text": [
      "/tmp/ipykernel_164515/2269926702.py:1: FutureWarning: `rcond` parameter will change to the default of machine precision times ``max(M, N)`` where M and N are the input matrix dimensions.\n",
      "To use the future default and silence this warning we advise to pass `rcond=None`, to keep using the old, explicitly pass `rcond=-1`.\n",
      "  m, c = np.linalg.lstsq(A, y)[0]\n"
     ]
    },
    {
     "data": {
      "image/png": "[encoded data removed]",
      "text/plain": [
       "<Figure size 640x480 with 1 Axes>"
      ]
     },
     "metadata": {},
     "output_type": "display_data"
    }
   ],
   "source": [
    "m, c = np.linalg.lstsq(A, y)[0]\n",
    "print (\"Coefficient:\"+str(m)+ \"\\n\"+\"intercept:\"+str(c))\n",
    "\n",
    "# Plot the fitteed line\n",
    "import matplotlib.pyplot as plt\n",
    "%matplotlib inline\n",
    "plt.plot(x, y, 'o', label='Original data', markersize=10)\n",
    "plt.plot(x, m*x + c, 'r', label='Fitted line')\n",
    "plt.legend()\n",
    "plt.show()"
   ]
  },
  {
   "cell_type": "markdown",
   "metadata": {},
   "source": [
    "** Both normal multiplicative and *Moore-Penrose* pseudo-inverse matrix (for generalized *m* x *n* array) can be calculated **"
   ]
  },
  {
   "cell_type": "code",
   "execution_count": 48,
   "metadata": {
    "collapsed": false,
    "jupyter": {
     "outputs_hidden": false
    }
   },
   "outputs": [
    {
     "name": "stdout",
     "output_type": "stream",
     "text": [
      "A:\n",
      " [[0.1 1.3 1.6 0.6]\n",
      " [0.3 1.4 0.1 0.6]\n",
      " [1.  1.5 1.9 1.4]\n",
      " [0.2 0.3 1.8 1.2]]\n",
      "Inverse of A:\n",
      " [[-0.57305773 -0.8852459   1.53528154 -1.06200998]\n",
      " [ 0.49037776  0.45901639 -0.11974341 -0.33499644]\n",
      " [ 0.62295082 -0.75409836  0.19672131 -0.16393443]\n",
      " [-0.96151105  1.16393443 -0.52102637  1.33998574]]\n"
     ]
    }
   ],
   "source": [
    "A = 0.1*np.random.randint(1,20,16).reshape(4,4)\n",
    "print (\"A:\\n\",A)\n",
    "print (\"Inverse of A:\\n\",np.linalg.inv(A))"
   ]
  },
  {
   "cell_type": "code",
   "execution_count": 49,
   "metadata": {
    "collapsed": false,
    "jupyter": {
     "outputs_hidden": false
    }
   },
   "outputs": [
    {
     "name": "stdout",
     "output_type": "stream",
     "text": [
      "A:\n",
      " [[1.6 0.1 0.5]\n",
      " [1.2 0.6 1.2]\n",
      " [0.3 1.  0.8]\n",
      " [0.3 0.6 1.9]\n",
      " [1.3 1.2 0.9]]\n",
      "Pseudo-inverse of A:\n",
      " [[ 0.47024317  0.16619785 -0.16702071 -0.21803496  0.12591555]\n",
      " [-0.42191794 -0.15861809  0.61686842 -0.33280326  0.60014682]\n",
      " [ 0.01698412  0.16293446 -0.1234228   0.60465658 -0.28235853]]\n",
      "Matrix product of A and pseudo inverse:\n",
      " [[ 1.00000000e+00 -6.08996321e-17 -4.69048899e-16]\n",
      " [ 4.44741216e-18  1.00000000e+00  6.12846370e-16]\n",
      " [-2.91925829e-17 -1.16770332e-16  1.00000000e+00]]\n"
     ]
    }
   ],
   "source": [
    "A = 0.1*np.random.randint(1,20,15).reshape(5,3)\n",
    "print (\"A:\\n\",A)\n",
    "print (\"Pseudo-inverse of A:\\n\",np.linalg.pinv(A))\n",
    "print (\"Matrix product of A and pseudo inverse:\\n\", np.dot(np.linalg.pinv(A),A))"
   ]
  }
 ],
 "metadata": {
  "kernelspec": {
   "display_name": "da5401",
   "language": "python",
   "name": "da5401"
  },
  "language_info": {
   "codemirror_mode": {
    "name": "ipython",
    "version": 3
   },
   "file_extension": ".py",
   "mimetype": "text/x-python",
   "name": "python",
   "nbconvert_exporter": "python",
   "pygments_lexer": "ipython3",
   "version": "3.10.16"
  }
 },
 "nbformat": 4,
 "nbformat_minor": 4
}
