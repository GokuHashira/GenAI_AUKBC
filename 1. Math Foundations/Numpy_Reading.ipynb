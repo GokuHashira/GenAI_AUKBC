{
 "cells": [
  {
   "cell_type": "markdown",
   "metadata": {},
   "source": [
    "# Speed difference between reading numerical data from plain CSV vs. using _.npy_ file format\n",
    "### Dr. Tirthajyoti Sarkar, Fremont, CA 94536"
   ]
  },
  {
   "cell_type": "code",
   "execution_count": 1,
   "metadata": {},
   "outputs": [],
   "source": [
    "import numpy as np\n",
    "import time"
   ]
  },
  {
   "cell_type": "markdown",
   "metadata": {},
   "source": [
    "### Number of samples"
   ]
  },
  {
   "cell_type": "code",
   "execution_count": 2,
   "metadata": {},
   "outputs": [],
   "source": [
    "n_samples=1000000"
   ]
  },
  {
   "cell_type": "markdown",
   "metadata": {},
   "source": [
    "### Reading from a CSV"
   ]
  },
  {
   "cell_type": "code",
   "execution_count": 3,
   "metadata": {},
   "outputs": [],
   "source": [
    "with open('fdata.txt', 'w') as fdata:\n",
    "    for _ in range(n_samples):\n",
    "        fdata.write(str(10*np.random.random())+',')"
   ]
  },
  {
   "cell_type": "code",
   "execution_count": 4,
   "metadata": {},
   "outputs": [
    {
     "name": "stdout",
     "output_type": "stream",
     "text": [
      "[[0.79069407 2.79264788 7.78010214 ... 8.67985377 5.55257576 6.63380363]\n",
      " [7.82258566 0.20014903 1.41525073 ... 7.05101166 9.19714586 5.20458313]\n",
      " [3.73702819 2.64382086 2.28656028 ... 0.88495059 2.02935994 7.00914684]\n",
      " ...\n",
      " [7.78463618 4.15066573 7.62901295 ... 8.2683873  9.80130484 6.25104443]\n",
      " [5.07043668 4.12035884 5.8887785  ... 3.45268772 3.34580485 9.28897288]\n",
      " [0.02954728 2.33390997 4.23928525 ... 7.15453709 5.02073548 1.51550383]]\n",
      "\n",
      "Shape:  (1000, 1000)\n",
      "Time took to read: 1.6509191989898682 seconds.\n"
     ]
    }
   ],
   "source": [
    "t1=time.time()\n",
    "array_direct = np.fromfile('fdata.txt',dtype=float, count=-1,sep=',').reshape(1000,1000)\n",
    "t2=time.time()\n",
    "print(array_direct)\n",
    "print('\\nShape: ',array_direct.shape)\n",
    "print(f\"Time took to read: {t2-t1} seconds.\")"
   ]
  },
  {
   "cell_type": "code",
   "execution_count": 5,
   "metadata": {},
   "outputs": [
    {
     "name": "stdout",
     "output_type": "stream",
     "text": [
      "[[0.79069407 2.79264788 7.78010214 ... 8.67985377 5.55257576 6.63380363]\n",
      " [7.82258566 0.20014903 1.41525073 ... 7.05101166 9.19714586 5.20458313]\n",
      " [3.73702819 2.64382086 2.28656028 ... 0.88495059 2.02935994 7.00914684]\n",
      " ...\n",
      " [7.78463618 4.15066573 7.62901295 ... 8.2683873  9.80130484 6.25104443]\n",
      " [5.07043668 4.12035884 5.8887785  ... 3.45268772 3.34580485 9.28897288]\n",
      " [0.02954728 2.33390997 4.23928525 ... 7.15453709 5.02073548 1.51550383]]\n",
      "\n",
      "Shape:  (1000, 1000)\n",
      "Time took to read: 0.5389654636383057 seconds.\n"
     ]
    }
   ],
   "source": [
    "t1=time.time()\n",
    "with open('fdata.txt','r') as fdata:\n",
    "    datastr=fdata.read()\n",
    "lst = datastr.split(',')\n",
    "lst.pop()\n",
    "array_lst=np.array(lst,dtype=float).reshape(1000,1000)\n",
    "t2=time.time()\n",
    "print(array_lst)\n",
    "print('\\nShape: ',array_lst.shape)\n",
    "print(f\"Time took to read: {t2-t1} seconds.\")"
   ]
  },
  {
   "cell_type": "markdown",
   "metadata": {},
   "source": [
    "### Save as a .npy file and read"
   ]
  },
  {
   "cell_type": "code",
   "execution_count": 6,
   "metadata": {},
   "outputs": [],
   "source": [
    "np.save('fnumpy.npy',array_lst)"
   ]
  },
  {
   "cell_type": "code",
   "execution_count": 7,
   "metadata": {},
   "outputs": [
    {
     "name": "stdout",
     "output_type": "stream",
     "text": [
      "[[0.79069407 2.79264788 7.78010214 ... 8.67985377 5.55257576 6.63380363]\n",
      " [7.82258566 0.20014903 1.41525073 ... 7.05101166 9.19714586 5.20458313]\n",
      " [3.73702819 2.64382086 2.28656028 ... 0.88495059 2.02935994 7.00914684]\n",
      " ...\n",
      " [7.78463618 4.15066573 7.62901295 ... 8.2683873  9.80130484 6.25104443]\n",
      " [5.07043668 4.12035884 5.8887785  ... 3.45268772 3.34580485 9.28897288]\n",
      " [0.02954728 2.33390997 4.23928525 ... 7.15453709 5.02073548 1.51550383]]\n",
      "\n",
      "Shape:  (1000, 1000)\n",
      "Time took to load: 0.02336716651916504 seconds.\n"
     ]
    }
   ],
   "source": [
    "t1=time.time()\n",
    "array_reloaded = np.load('fnumpy.npy')\n",
    "t2=time.time()\n",
    "print(array_reloaded)\n",
    "print('\\nShape: ',array_reloaded.shape)\n",
    "print(f\"Time took to load: {t2-t1} seconds.\")"
   ]
  },
  {
   "cell_type": "code",
   "execution_count": 8,
   "metadata": {},
   "outputs": [
    {
     "name": "stdout",
     "output_type": "stream",
     "text": [
      "[[0.79069407 2.79264788 7.78010214 ... 0.58501605 3.02512138 1.62227298]\n",
      " [2.36862622 5.58014723 1.17830832 ... 1.3599694  2.92832621 5.97991064]\n",
      " [8.99645105 2.69468737 5.50031807 ... 8.54662486 1.86510162 0.9401483 ]\n",
      " ...\n",
      " [9.07638179 8.81049742 7.06762782 ... 1.22593962 6.59391001 0.19797911]\n",
      " [1.5613063  3.03317505 4.65784817 ... 0.89528544 8.04649588 0.05569265]\n",
      " [9.92550606 8.21620003 8.23769044 ... 7.15453709 5.02073548 1.51550383]]\n",
      "\n",
      "Shape:  (10000, 100)\n",
      "Time took to load: 0.010059356689453125 seconds.\n"
     ]
    }
   ],
   "source": [
    "t1=time.time()\n",
    "array_reloaded = np.load('fnumpy.npy').reshape(10000,100)\n",
    "t2=time.time()\n",
    "print(array_reloaded)\n",
    "print('\\nShape: ',array_reloaded.shape)\n",
    "print(f\"Time took to load: {t2-t1} seconds.\")"
   ]
  },
  {
   "cell_type": "markdown",
   "metadata": {},
   "source": [
    "### Speed enhancement as the sample size grows..."
   ]
  },
  {
   "cell_type": "code",
   "execution_count": 9,
   "metadata": {},
   "outputs": [
    {
     "name": "stdout",
     "output_type": "stream",
     "text": [
      "Array shape: (100000,)\n",
      "Array shape: (100000,)\n",
      "Processing done for 100000 samples\n",
      "\n",
      "Array shape: (200000,)\n",
      "Array shape: (200000,)\n",
      "Processing done for 200000 samples\n",
      "\n",
      "Array shape: (300000,)\n",
      "Array shape: (300000,)\n",
      "Processing done for 300000 samples\n",
      "\n",
      "Array shape: (400000,)\n",
      "Array shape: (400000,)\n",
      "Processing done for 400000 samples\n",
      "\n",
      "Array shape: (500000,)\n",
      "Array shape: (500000,)\n",
      "Processing done for 500000 samples\n",
      "\n",
      "Array shape: (600000,)\n",
      "Array shape: (600000,)\n",
      "Processing done for 600000 samples\n",
      "\n",
      "Array shape: (700000,)\n",
      "Array shape: (700000,)\n",
      "Processing done for 700000 samples\n",
      "\n",
      "Array shape: (800000,)\n",
      "Array shape: (800000,)\n",
      "Processing done for 800000 samples\n",
      "\n",
      "Array shape: (900000,)\n",
      "Array shape: (900000,)\n",
      "Processing done for 900000 samples\n",
      "\n",
      "Array shape: (1000000,)\n",
      "Array shape: (1000000,)\n",
      "Processing done for 1000000 samples\n",
      "\n"
     ]
    }
   ],
   "source": [
    "n_samples=[100000*i for i in range(1,11)] \n",
    "time_lst_read=[]\n",
    "time_npy_read=[]\n",
    "\n",
    "for sample_size in n_samples:\n",
    "    with open('fdata.txt', 'w') as fdata:\n",
    "        for _ in range(sample_size):\n",
    "            fdata.write(str(10*np.random.random())+',')\n",
    "\n",
    "    t1=time.time()\n",
    "    with open('fdata.txt','r') as fdata:\n",
    "        datastr=fdata.read()\n",
    "    lst = datastr.split(',')\n",
    "    lst.pop()\n",
    "    array_lst=np.array(lst,dtype=float)\n",
    "    t2=time.time()\n",
    "    time_lst_read.append(1000*(t2-t1))\n",
    "    print(\"Array shape:\",array_lst.shape)\n",
    "\n",
    "    np.save('fnumpy.npy',array_lst)\n",
    "\n",
    "    t1=time.time()\n",
    "    array_reloaded = np.load('fnumpy.npy')\n",
    "    t2=time.time()\n",
    "    time_npy_read.append(1000*(t2-t1))\n",
    "    print(\"Array shape:\",array_reloaded.shape)\n",
    "    \n",
    "    print(f\"Processing done for {sample_size} samples\\n\")"
   ]
  },
  {
   "cell_type": "code",
   "execution_count": 10,
   "metadata": {},
   "outputs": [],
   "source": [
    "import matplotlib.pyplot as plt"
   ]
  },
  {
   "cell_type": "code",
   "execution_count": 11,
   "metadata": {},
   "outputs": [
    {
     "data": {
      "image/png": "[encoded data removed]",
      "text/plain": [
       "<Figure size 800x500 with 1 Axes>"
      ]
     },
     "metadata": {},
     "output_type": "display_data"
    }
   ],
   "source": [
    "plt.figure(figsize=(8,5))\n",
    "#plt.xscale('log')\n",
    "#plt.yscale('log')\n",
    "plt.scatter(n_samples,time_lst_read)\n",
    "plt.scatter(n_samples,time_npy_read)\n",
    "plt.legend(['Normal read from CSV','Read from .npy file'])\n",
    "plt.show()"
   ]
  },
  {
   "cell_type": "code",
   "execution_count": null,
   "metadata": {},
   "outputs": [],
   "source": []
  }
 ],
 "metadata": {
  "kernelspec": {
   "display_name": "venv",
   "language": "python",
   "name": "python3"
  },
  "language_info": {
   "codemirror_mode": {
    "name": "ipython",
    "version": 3
   },
   "file_extension": ".py",
   "mimetype": "text/x-python",
   "name": "python",
   "nbconvert_exporter": "python",
   "pygments_lexer": "ipython3",
   "version": "3.11.9"
  },
  "latex_envs": {
   "LaTeX_envs_menu_present": true,
   "autoclose": false,
   "autocomplete": true,
   "bibliofile": "biblio.bib",
   "cite_by": "apalike",
   "current_citInitial": 1,
   "eqLabelWithNumbers": true,
   "eqNumInitial": 1,
   "hotkeys": {
    "equation": "Ctrl-E",
    "itemize": "Ctrl-I"
   },
   "labels_anchors": false,
   "latex_user_defs": false,
   "report_style_numbering": false,
   "user_envs_cfg": false
  }
 },
 "nbformat": 4,
 "nbformat_minor": 4
}
