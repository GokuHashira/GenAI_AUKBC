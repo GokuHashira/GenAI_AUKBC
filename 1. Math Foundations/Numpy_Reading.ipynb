{
 "cells": [
  {
   "cell_type": "markdown",
   "metadata": {},
   "source": [
    "# Speed difference between reading numerical data from plain CSV vs. using _.npy_ file format\n",
    "### Dr. Tirthajyoti Sarkar, Fremont, CA 94536"
   ]
  },
  {
   "cell_type": "code",
   "execution_count": 1,
   "metadata": {},
   "outputs": [],
   "source": [
    "import numpy as np\n",
    "import time"
   ]
  },
  {
   "cell_type": "markdown",
   "metadata": {},
   "source": [
    "### Number of samples"
   ]
  },
  {
   "cell_type": "code",
   "execution_count": 2,
   "metadata": {},
   "outputs": [],
   "source": [
    "n_samples=1000000"
   ]
  },
  {
   "cell_type": "markdown",
   "metadata": {},
   "source": [
    "### Reading from a CSV"
   ]
  },
  {
   "cell_type": "code",
   "execution_count": 3,
   "metadata": {},
   "outputs": [],
   "source": [
    "with open('fdata.txt', 'w') as fdata:\n",
    "    for _ in range(n_samples):\n",
    "        fdata.write(str(10*np.random.random())+',')"
   ]
  },
  {
   "cell_type": "code",
   "execution_count": 4,
   "metadata": {},
   "outputs": [
    {
     "name": "stdout",
     "output_type": "stream",
     "text": [
      "[[7.67663682 6.91430604 2.78991408 ... 3.62465202 4.53586433 0.3469955 ]\n",
      " [8.75533503 0.85541715 9.40026384 ... 0.62124578 1.58790766 1.00792037]\n",
      " [5.62908327 9.02346211 6.22968559 ... 5.32863264 4.3689387  2.87109527]\n",
      " ...\n",
      " [1.0271672  0.24443594 0.22606608 ... 8.7713719  0.83629601 0.79679674]\n",
      " [5.0607254  4.47325329 6.21957644 ... 4.19126821 1.39512349 2.55633918]\n",
      " [8.60567288 3.76895566 5.01759886 ... 0.5770266  7.21258652 8.26645912]]\n",
      "\n",
      "Shape:  (1000, 1000)\n",
      "Time took to read: 0.4674568176269531 seconds.\n"
     ]
    }
   ],
   "source": [
    "t1=time.time()\n",
    "array_direct = np.fromfile('fdata.txt',dtype=float, count=-1,sep=',').reshape(1000,1000)\n",
    "t2=time.time()\n",
    "print(array_direct)\n",
    "print('\\nShape: ',array_direct.shape)\n",
    "print(f\"Time took to read: {t2-t1} seconds.\")"
   ]
  },
  {
   "cell_type": "code",
   "execution_count": 5,
   "metadata": {},
   "outputs": [
    {
     "name": "stdout",
     "output_type": "stream",
     "text": [
      "[[7.67663682 6.91430604 2.78991408 ... 3.62465202 4.53586433 0.3469955 ]\n",
      " [8.75533503 0.85541715 9.40026384 ... 0.62124578 1.58790766 1.00792037]\n",
      " [5.62908327 9.02346211 6.22968559 ... 5.32863264 4.3689387  2.87109527]\n",
      " ...\n",
      " [1.0271672  0.24443594 0.22606608 ... 8.7713719  0.83629601 0.79679674]\n",
      " [5.0607254  4.47325329 6.21957644 ... 4.19126821 1.39512349 2.55633918]\n",
      " [8.60567288 3.76895566 5.01759886 ... 0.5770266  7.21258652 8.26645912]]\n",
      "\n",
      "Shape:  (1000, 1000)\n",
      "Time took to read: 0.30719637870788574 seconds.\n"
     ]
    }
   ],
   "source": [
    "t1=time.time()\n",
    "with open('fdata.txt','r') as fdata:\n",
    "    datastr=fdata.read()\n",
    "lst = datastr.split(',')\n",
    "lst.pop()\n",
    "array_lst=np.array(lst,dtype=float).reshape(1000,1000)\n",
    "t2=time.time()\n",
    "print(array_lst)\n",
    "print('\\nShape: ',array_lst.shape)\n",
    "print(f\"Time took to read: {t2-t1} seconds.\")"
   ]
  },
  {
   "cell_type": "markdown",
   "metadata": {},
   "source": [
    "### Save as a .npy file and read"
   ]
  },
  {
   "cell_type": "code",
   "execution_count": 6,
   "metadata": {},
   "outputs": [],
   "source": [
    "np.save('fnumpy.npy',array_lst)"
   ]
  },
  {
   "cell_type": "code",
   "execution_count": 7,
   "metadata": {},
   "outputs": [
    {
     "name": "stdout",
     "output_type": "stream",
     "text": [
      "[[7.67663682 6.91430604 2.78991408 ... 3.62465202 4.53586433 0.3469955 ]\n",
      " [8.75533503 0.85541715 9.40026384 ... 0.62124578 1.58790766 1.00792037]\n",
      " [5.62908327 9.02346211 6.22968559 ... 5.32863264 4.3689387  2.87109527]\n",
      " ...\n",
      " [1.0271672  0.24443594 0.22606608 ... 8.7713719  0.83629601 0.79679674]\n",
      " [5.0607254  4.47325329 6.21957644 ... 4.19126821 1.39512349 2.55633918]\n",
      " [8.60567288 3.76895566 5.01759886 ... 0.5770266  7.21258652 8.26645912]]\n",
      "\n",
      "Shape:  (1000, 1000)\n",
      "Time took to load: 0.0027103424072265625 seconds.\n"
     ]
    }
   ],
   "source": [
    "t1=time.time()\n",
    "array_reloaded = np.load('fnumpy.npy')\n",
    "t2=time.time()\n",
    "print(array_reloaded)\n",
    "print('\\nShape: ',array_reloaded.shape)\n",
    "print(f\"Time took to load: {t2-t1} seconds.\")"
   ]
  },
  {
   "cell_type": "code",
   "execution_count": 8,
   "metadata": {},
   "outputs": [
    {
     "name": "stdout",
     "output_type": "stream",
     "text": [
      "[[7.67663682 6.91430604 2.78991408 ... 2.97583343 6.3915633  7.91121184]\n",
      " [9.90027929 2.62112065 3.86208952 ... 5.57314874 6.77801606 0.2206387 ]\n",
      " [8.9271368  4.3441689  0.42092245 ... 5.98379283 3.47232605 3.90477228]\n",
      " ...\n",
      " [0.3577778  9.28045104 0.46790284 ... 6.91979245 1.94833894 9.8640072 ]\n",
      " [2.88225242 7.67727695 4.29009953 ... 4.19715892 2.09417159 9.09408485]\n",
      " [4.21405798 9.95486018 0.28039888 ... 0.5770266  7.21258652 8.26645912]]\n",
      "\n",
      "Shape:  (10000, 100)\n",
      "Time took to load: 0.0028467178344726562 seconds.\n"
     ]
    }
   ],
   "source": [
    "t1=time.time()\n",
    "array_reloaded = np.load('fnumpy.npy').reshape(10000,100)\n",
    "t2=time.time()\n",
    "print(array_reloaded)\n",
    "print('\\nShape: ',array_reloaded.shape)\n",
    "print(f\"Time took to load: {t2-t1} seconds.\")"
   ]
  },
  {
   "cell_type": "markdown",
   "metadata": {},
   "source": [
    "### Speed enhancement as the sample size grows..."
   ]
  },
  {
   "cell_type": "code",
   "execution_count": 9,
   "metadata": {},
   "outputs": [
    {
     "name": "stdout",
     "output_type": "stream",
     "text": [
      "Array shape: (100000,)\n",
      "Array shape: (100000,)\n",
      "Processing done for 100000 samples\n",
      "\n",
      "Array shape: (200000,)\n",
      "Array shape: (200000,)\n",
      "Processing done for 200000 samples\n",
      "\n",
      "Array shape: (300000,)\n",
      "Array shape: (300000,)\n",
      "Processing done for 300000 samples\n",
      "\n",
      "Array shape: (400000,)\n",
      "Array shape: (400000,)\n",
      "Processing done for 400000 samples\n",
      "\n",
      "Array shape: (500000,)\n",
      "Array shape: (500000,)\n",
      "Processing done for 500000 samples\n",
      "\n",
      "Array shape: (600000,)\n",
      "Array shape: (600000,)\n",
      "Processing done for 600000 samples\n",
      "\n",
      "Array shape: (700000,)\n",
      "Array shape: (700000,)\n",
      "Processing done for 700000 samples\n",
      "\n",
      "Array shape: (800000,)\n",
      "Array shape: (800000,)\n",
      "Processing done for 800000 samples\n",
      "\n",
      "Array shape: (900000,)\n",
      "Array shape: (900000,)\n",
      "Processing done for 900000 samples\n",
      "\n",
      "Array shape: (1000000,)\n",
      "Array shape: (1000000,)\n",
      "Processing done for 1000000 samples\n",
      "\n"
     ]
    }
   ],
   "source": [
    "n_samples=[100000*i for i in range(1,11)] \n",
    "time_lst_read=[]\n",
    "time_npy_read=[]\n",
    "\n",
    "for sample_size in n_samples:\n",
    "    with open('fdata.txt', 'w') as fdata:\n",
    "        for _ in range(sample_size):\n",
    "            fdata.write(str(10*np.random.random())+',')\n",
    "\n",
    "    t1=time.time()\n",
    "    with open('fdata.txt','r') as fdata:\n",
    "        datastr=fdata.read()\n",
    "    lst = datastr.split(',')\n",
    "    lst.pop()\n",
    "    array_lst=np.array(lst,dtype=float)\n",
    "    t2=time.time()\n",
    "    time_lst_read.append(1000*(t2-t1))\n",
    "    print(\"Array shape:\",array_lst.shape)\n",
    "\n",
    "    np.save('fnumpy.npy',array_lst)\n",
    "\n",
    "    t1=time.time()\n",
    "    array_reloaded = np.load('fnumpy.npy')\n",
    "    t2=time.time()\n",
    "    time_npy_read.append(1000*(t2-t1))\n",
    "    print(\"Array shape:\",array_reloaded.shape)\n",
    "    \n",
    "    print(f\"Processing done for {sample_size} samples\\n\")"
   ]
  },
  {
   "cell_type": "code",
   "execution_count": 10,
   "metadata": {},
   "outputs": [],
   "source": [
    "import matplotlib.pyplot as plt"
   ]
  },
  {
   "cell_type": "code",
   "execution_count": 11,
   "metadata": {},
   "outputs": [
    {
     "data": {
      "image/png": "[encoded data removed]",
      "text/plain": [
       "<Figure size 800x500 with 1 Axes>"
      ]
     },
     "metadata": {},
     "output_type": "display_data"
    }
   ],
   "source": [
    "plt.figure(figsize=(8,5))\n",
    "#plt.xscale('log')\n",
    "#plt.yscale('log')\n",
    "plt.scatter(n_samples,time_lst_read)\n",
    "plt.scatter(n_samples,time_npy_read)\n",
    "plt.legend(['Normal read from CSV','Read from .npy file'])\n",
    "plt.show()"
   ]
  }
 ],
 "metadata": {
  "kernelspec": {
   "display_name": "da5401",
   "language": "python",
   "name": "da5401"
  },
  "language_info": {
   "codemirror_mode": {
    "name": "ipython",
    "version": 3
   },
   "file_extension": ".py",
   "mimetype": "text/x-python",
   "name": "python",
   "nbconvert_exporter": "python",
   "pygments_lexer": "ipython3",
   "version": "3.10.16"
  },
  "latex_envs": {
   "LaTeX_envs_menu_present": true,
   "autoclose": false,
   "autocomplete": true,
   "bibliofile": "biblio.bib",
   "cite_by": "apalike",
   "current_citInitial": 1,
   "eqLabelWithNumbers": true,
   "eqNumInitial": 1,
   "hotkeys": {
    "equation": "Ctrl-E",
    "itemize": "Ctrl-I"
   },
   "labels_anchors": false,
   "latex_user_defs": false,
   "report_style_numbering": false,
   "user_envs_cfg": false
  }
 },
 "nbformat": 4,
 "nbformat_minor": 4
}
