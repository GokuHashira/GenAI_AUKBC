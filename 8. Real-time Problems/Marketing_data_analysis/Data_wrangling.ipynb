{
 "cells": [
  {
   "cell_type": "markdown",
   "metadata": {},
   "source": [
    "## Description\n",
    "\n",
    "Typical office material supply company running their operations sees many challenges, one of the major ones being how to measure the effectiveness of sales and marketing operations. We have picked up an imaginary office material supply company **“Office Corp.”** for our analysis. They have tested a telemarketing campaign targeting existing domestic business customers with a random selection of products. For this exercise, a sample of 16,172 customers were targeted. The products being marketed are Desk, Executive Chair, Standard Chair, Monitor, Printer Computer, Insurance, Toner and Office Supplies.  \n",
    "\n",
    "Office Corp would like to leverage the knowledge gained from this survey (and associated dataset) for future campaigns. Office Corp has hired an analyst team to solve the following three problems using various analytical techniques.  \n",
    "\n",
    "- Profile the customers that responded to the campaign to understand the characteristics of customers who made purchases. \n",
    "\n",
    "- Develop models using the campaign results to target responsive, profitable customers for future campaigns. \n",
    "\n",
    "- Summarize and categorize the profitability of the various marketing segments which may be used to optimize future campaigns.\n",
    "\n",
    "---\n",
    "\n",
    "## Scientific questions/investigation\n",
    "\n",
    "Given marketing dataset, there are three key problems to solve.  \n",
    "\n",
    "- Given campaign period data, looking at customer profile, we aim to predict whether customer will Buy or Not Buy. We intent to frame this as a Classification problem. \n",
    "\n",
    "- Among the customers who are predicted as they will buy, we aim to estimate what will be size of purchase. We intent to frame this as a Regression problem. \n",
    "\n",
    "- For those customers who are likely to purchase and in general other customers using their historical product purchase data, we aim to predict top 3 products that are likely to be purchased. Also try to predict whether there are any product bundles Office Corp may sell more, etc. We intend to frame this as a Clustering problem.  \n",
    "\n",
    "In the process of analysis, we intent to carry out,  \n",
    "\n",
    "- data missing and imputation treatments,  \n",
    "\n",
    "- data sufficiency and randomized splitting for test-train sets,  \n",
    "\n",
    "- test amount of data necessary for optimal predictions & accuracy, etc.  \n",
    "\n",
    "This last topic of determining optimal amount of data is called the ‘sample complexity study’ and it is extremely important for such real-life marketing campaign problems because collecting too much data unnecessarily may cause the company cost overrun. Data scientists should be able to advise the business department on how much data to collect to achieve a decent model performance. "
   ]
  },
  {
   "cell_type": "code",
   "execution_count": null,
   "metadata": {},
   "outputs": [],
   "source": [
    "import numpy as np\n",
    "import pandas as pd\n",
    "import matplotlib.pyplot as plt\n",
    "import seaborn as sns"
   ]
  },
  {
   "cell_type": "markdown",
   "metadata": {},
   "source": [
    "### Loading the data"
   ]
  },
  {
   "cell_type": "code",
   "execution_count": null,
   "metadata": {},
   "outputs": [],
   "source": [
    "supply = pd.read_csv(\"office_supply.csv\")"
   ]
  },
  {
   "cell_type": "code",
   "execution_count": null,
   "metadata": {},
   "outputs": [],
   "source": [
    "supply = supply[['Customer Number', 'Service Level',' Date of Last Transaction ','Number of Transactions','Email Available']]\n",
    "supply.columns = ['Customer Number', 'Service Level','Date of Last Transaction','Number of Transactions','Email Available']"
   ]
  },
  {
   "cell_type": "code",
   "execution_count": null,
   "metadata": {},
   "outputs": [],
   "source": [
    "campaign = pd.read_excel(\"office_supply_campaign_results.xlsx\", \n",
    "                         sheet_name=\"Campaign Results\",\n",
    "                         na_values=[' ',''], true_values=['TRUE'],false_values=['FALSE'])"
   ]
  },
  {
   "cell_type": "markdown",
   "metadata": {},
   "source": [
    "### Columns"
   ]
  },
  {
   "cell_type": "code",
   "execution_count": null,
   "metadata": {},
   "outputs": [],
   "source": [
    "campaign.columns"
   ]
  },
  {
   "cell_type": "code",
   "execution_count": null,
   "metadata": {},
   "outputs": [],
   "source": [
    "for c1 in supply.columns:\n",
    "    if c1 not in campaign.columns:\n",
    "        print(c1)"
   ]
  },
  {
   "cell_type": "markdown",
   "metadata": {},
   "source": [
    "### Join"
   ]
  },
  {
   "cell_type": "code",
   "execution_count": null,
   "metadata": {},
   "outputs": [],
   "source": [
    "supply['Customer Number'] = supply['Customer Number'].apply(lambda x: int(x))"
   ]
  },
  {
   "cell_type": "code",
   "execution_count": null,
   "metadata": {},
   "outputs": [],
   "source": [
    "campaign=campaign.dropna(axis=0,subset=['Customer Number'])"
   ]
  },
  {
   "cell_type": "code",
   "execution_count": null,
   "metadata": {},
   "outputs": [],
   "source": [
    "campaign['Customer Number'] = campaign['Customer Number'].apply(lambda x: int(x))"
   ]
  },
  {
   "cell_type": "code",
   "execution_count": null,
   "metadata": {},
   "outputs": [],
   "source": [
    "df = campaign.merge(supply,on='Customer Number')"
   ]
  },
  {
   "cell_type": "code",
   "execution_count": null,
   "metadata": {},
   "outputs": [],
   "source": [
    "df.head()"
   ]
  },
  {
   "cell_type": "code",
   "execution_count": null,
   "metadata": {},
   "outputs": [],
   "source": [
    "df['Date of Last Transaction'] = pd.to_datetime(df['Date of Last Transaction'])"
   ]
  },
  {
   "cell_type": "code",
   "execution_count": null,
   "metadata": {},
   "outputs": [],
   "source": [
    "df['Number of Prior Year Transactions'] = df['Number of Prior Year Transactions'].apply(lambda x: int(x))"
   ]
  },
  {
   "cell_type": "code",
   "execution_count": null,
   "metadata": {},
   "outputs": [],
   "source": [
    "df.info()"
   ]
  },
  {
   "cell_type": "markdown",
   "metadata": {},
   "source": [
    "### Fill `Language` missing values by `Unknown` "
   ]
  },
  {
   "cell_type": "code",
   "execution_count": null,
   "metadata": {},
   "outputs": [],
   "source": [
    "df['Language'].fillna('Unknown',inplace=True)"
   ]
  },
  {
   "cell_type": "markdown",
   "metadata": {},
   "source": [
    "### Dropping all other missing values"
   ]
  },
  {
   "cell_type": "code",
   "execution_count": null,
   "metadata": {},
   "outputs": [],
   "source": [
    "df = df.dropna()"
   ]
  },
  {
   "cell_type": "code",
   "execution_count": null,
   "metadata": {},
   "outputs": [],
   "source": [
    "df.columns"
   ]
  },
  {
   "cell_type": "code",
   "execution_count": null,
   "metadata": {},
   "outputs": [],
   "source": [
    "df.info()"
   ]
  },
  {
   "cell_type": "markdown",
   "metadata": {},
   "source": [
    "### Categorical variables"
   ]
  },
  {
   "cell_type": "code",
   "execution_count": null,
   "metadata": {},
   "outputs": [],
   "source": [
    "cat_vars = ['Do Not Direct Mail Solicit', 'Do Not Email', 'Do Not Telemarket',\n",
    "       'Repurchase Method', 'Last Transaction Channel', 'Desk',\n",
    "       'Executive Chair', 'Standard Chair', 'Monitor', 'Printer', 'Computer',\n",
    "       'Insurance', 'Toner', 'Office Supplies', 'Number of Employees', 'Language','Service Level','Email Available']"
   ]
  },
  {
   "cell_type": "code",
   "execution_count": null,
   "metadata": {},
   "outputs": [],
   "source": [
    "len(cat_vars)"
   ]
  },
  {
   "cell_type": "markdown",
   "metadata": {},
   "source": [
    "### What are the unique values in the columns?"
   ]
  },
  {
   "cell_type": "code",
   "execution_count": null,
   "metadata": {},
   "outputs": [],
   "source": [
    "for v in cat_vars:\n",
    "    print(f\"Values in {v}: {df[v].unique()}\")"
   ]
  },
  {
   "cell_type": "markdown",
   "metadata": {},
   "source": [
    "### Converting boolean columns to proper data types"
   ]
  },
  {
   "cell_type": "code",
   "execution_count": null,
   "metadata": {},
   "outputs": [],
   "source": [
    "#type_dict = {}\n"
   ]
  },
  {
   "cell_type": "code",
   "execution_count": null,
   "metadata": {},
   "outputs": [],
   "source": [
    "df=df.astype({'Do Not Direct Mail Solicit': 'bool', 'Do Not Email':bool, 'Do Not Telemarket':bool})"
   ]
  },
  {
   "cell_type": "code",
   "execution_count": null,
   "metadata": {},
   "outputs": [],
   "source": [
    "df.info()"
   ]
  },
  {
   "cell_type": "code",
   "execution_count": null,
   "metadata": {},
   "outputs": [],
   "source": [
    "fig, ax = plt.subplots(6,3,figsize=(18,25),squeeze=False,sharey=True)\n",
    "fig.tight_layout(pad=2.0)\n",
    "ax = ax.ravel()\n",
    "for i in range(18):\n",
    "    sns.stripplot(x=cat_vars[i],y='Campaign Period Sales',data=df,ax=ax[i],edgecolor='k')\n",
    "    ax[i].set_xlabel(cat_vars[i],fontsize=14)\n",
    "    if len(df[cat_vars[i]].unique()) > 3:\n",
    "        ax[i].set_xticklabels(labels=df[cat_vars[i]].unique(), rotation = 90)\n",
    "plt.show()"
   ]
  },
  {
   "cell_type": "code",
   "execution_count": null,
   "metadata": {},
   "outputs": [],
   "source": [
    "fig, ax = plt.subplots(6,3,figsize=(12,18),squeeze=True,sharey=True)\n",
    "ax = ax.ravel()\n",
    "for i in range(18):\n",
    "    ax[i].pie(df[cat_vars[i]].value_counts(),\n",
    "        labels=df[cat_vars[i]].unique())\n",
    "    ax[i].set_xlabel(cat_vars[i],fontsize=14)\n",
    "plt.show()"
   ]
  },
  {
   "cell_type": "markdown",
   "metadata": {},
   "source": [
    "### Buy/No buy?"
   ]
  },
  {
   "cell_type": "code",
   "execution_count": null,
   "metadata": {},
   "outputs": [],
   "source": [
    "df['Buy'] = (df['Campaign Period Sales'] > 0).apply(lambda x: int(x))"
   ]
  },
  {
   "cell_type": "code",
   "execution_count": null,
   "metadata": {},
   "outputs": [],
   "source": [
    "plt.hist(df['Buy'])\n",
    "plt.show()"
   ]
  },
  {
   "cell_type": "markdown",
   "metadata": {},
   "source": [
    "### Customer engagement length (days)"
   ]
  },
  {
   "cell_type": "code",
   "execution_count": null,
   "metadata": {},
   "outputs": [],
   "source": [
    "df['Customer_engagement_days'] = (pd.Timestamp.now().normalize() - df['Date of First Purchase']).dt.days"
   ]
  },
  {
   "cell_type": "code",
   "execution_count": null,
   "metadata": {},
   "outputs": [],
   "source": [
    "df['Days_since_last_transaction'] = (pd.Timestamp.now().normalize() - df['Date of Last Transaction']).dt.days"
   ]
  },
  {
   "cell_type": "code",
   "execution_count": null,
   "metadata": {},
   "outputs": [],
   "source": [
    "plt.hist(df['Customer_engagement_days']/365,bins=25,edgecolor='k')\n",
    "plt.show()"
   ]
  },
  {
   "cell_type": "code",
   "execution_count": null,
   "metadata": {},
   "outputs": [],
   "source": [
    "df['Date of First Purchase'].describe()"
   ]
  },
  {
   "cell_type": "code",
   "execution_count": null,
   "metadata": {},
   "outputs": [],
   "source": [
    "plt.hist(df['Days_since_last_transaction'],bins=25,edgecolor='k')\n",
    "plt.show()"
   ]
  },
  {
   "cell_type": "code",
   "execution_count": null,
   "metadata": {},
   "outputs": [],
   "source": [
    "def customer_engagement(d):\n",
    "    m = df['Customer_engagement_days'].mean()\n",
    "    s = df['Customer_engagement_days'].std()\n",
    "    if d >= m+s:\n",
    "        return 'Long-term'\n",
    "    elif d > m-s and d < m+s:\n",
    "        return 'Mid-term'\n",
    "    else:\n",
    "        return 'Short-term'"
   ]
  },
  {
   "cell_type": "code",
   "execution_count": null,
   "metadata": {},
   "outputs": [],
   "source": [
    "m = df['Customer_engagement_days'].mean()\n",
    "s = df['Customer_engagement_days'].std()\n",
    "\n",
    "print(m/365,s/365)"
   ]
  },
  {
   "cell_type": "code",
   "execution_count": null,
   "metadata": {},
   "outputs": [],
   "source": [
    "df['Customer_engagement_length'] = df['Customer_engagement_days'].apply(customer_engagement)"
   ]
  },
  {
   "cell_type": "code",
   "execution_count": null,
   "metadata": {},
   "outputs": [],
   "source": [
    "sns.stripplot(x='Customer_engagement_length',y='Campaign Period Sales',data=df)\n",
    "plt.show()"
   ]
  },
  {
   "cell_type": "code",
   "execution_count": null,
   "metadata": {},
   "outputs": [],
   "source": [
    "df2 = df[df['Buy']==1]\n",
    "plt.scatter(df2['Customer_engagement_days']/365,df2['Campaign Period Sales'])\n",
    "plt.show()"
   ]
  },
  {
   "cell_type": "markdown",
   "metadata": {},
   "source": [
    "### Language grouping"
   ]
  },
  {
   "cell_type": "code",
   "execution_count": null,
   "metadata": {},
   "outputs": [],
   "source": [
    "df['Language'].unique()"
   ]
  },
  {
   "cell_type": "code",
   "execution_count": null,
   "metadata": {},
   "outputs": [],
   "source": [
    "def language_group(lan):\n",
    "    if lan=='English':\n",
    "        return 'English'\n",
    "    elif lan=='Hindi' or lan=='Chinese' or lan=='Hebrew' or lan=='Japanese' or lan=='Arabic' or lan=='Vietnamese' or lan=='Thai' or lan=='Pashto':\n",
    "        return 'Asian'\n",
    "    elif lan=='Unknown':\n",
    "        return 'Unknown'\n",
    "    else:\n",
    "        return 'European'        "
   ]
  },
  {
   "cell_type": "code",
   "execution_count": null,
   "metadata": {},
   "outputs": [],
   "source": [
    "df['Language_group'] = df['Language'].apply(language_group)"
   ]
  },
  {
   "cell_type": "code",
   "execution_count": null,
   "metadata": {},
   "outputs": [],
   "source": [
    "df.info()"
   ]
  },
  {
   "cell_type": "code",
   "execution_count": null,
   "metadata": {},
   "outputs": [],
   "source": [
    "plt.hist(df[df['Buy']==1]['Campaign Period Sales'],bins=25,edgecolor='k')\n",
    "plt.xlim(0,2000)\n",
    "plt.show()"
   ]
  },
  {
   "cell_type": "markdown",
   "metadata": {},
   "source": [
    "### Saving to a CSV"
   ]
  },
  {
   "cell_type": "code",
   "execution_count": null,
   "metadata": {},
   "outputs": [],
   "source": [
    "df.to_csv('Cleaned_campaign_sale.csv')"
   ]
  },
  {
   "cell_type": "code",
   "execution_count": null,
   "metadata": {},
   "outputs": [],
   "source": [
    "d=pd.get_dummies(df,columns=cat_vars)"
   ]
  },
  {
   "cell_type": "code",
   "execution_count": null,
   "metadata": {},
   "outputs": [],
   "source": [
    "from sklearn.preprocessing import OneHotEncoder"
   ]
  },
  {
   "cell_type": "code",
   "execution_count": null,
   "metadata": {},
   "outputs": [],
   "source": [
    "d.info()"
   ]
  },
  {
   "cell_type": "code",
   "execution_count": null,
   "metadata": {},
   "outputs": [],
   "source": [
    "d.head()"
   ]
  },
  {
   "cell_type": "code",
   "execution_count": null,
   "metadata": {},
   "outputs": [],
   "source": [
    "len(d[d['Campaign Period Sales']==0.0])"
   ]
  },
  {
   "cell_type": "code",
   "execution_count": null,
   "metadata": {},
   "outputs": [],
   "source": [
    "fig,ax=plt.subplots(1,2,figsize=(18,6))\n",
    "ax[0].scatter(d['Historical Sales Volume'],d['Campaign Period Sales'],c='blue',edgecolor='k')\n",
    "ax[0].set_title('Historical Sales Volume',fontsize=18)\n",
    "ax[1].scatter(d['Number of Prior Year Transactions'],d['Campaign Period Sales'],c='blue',edgecolor='k')\n",
    "ax[1].set_title('Number of Prior Year Transactions',fontsize=18)\n",
    "plt.show()"
   ]
  },
  {
   "cell_type": "code",
   "execution_count": null,
   "metadata": {},
   "outputs": [],
   "source": []
  }
 ],
 "metadata": {
  "kernelspec": {
   "display_name": "da5401",
   "language": "python",
   "name": "da5401"
  },
  "language_info": {
   "codemirror_mode": {
    "name": "ipython",
    "version": 3
   },
   "file_extension": ".py",
   "mimetype": "text/x-python",
   "name": "python",
   "nbconvert_exporter": "python",
   "pygments_lexer": "ipython3",
   "version": "3.10.17"
  }
 },
 "nbformat": 4,
 "nbformat_minor": 4
}
