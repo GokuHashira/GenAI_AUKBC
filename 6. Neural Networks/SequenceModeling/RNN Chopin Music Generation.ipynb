{
 "cells": [
  {
   "cell_type": "markdown",
   "metadata": {},
   "source": [
    "# Introduction"
   ]
  },
  {
   "cell_type": "markdown",
   "metadata": {},
   "source": [
    "With the advance of deep learning, computers can now compose music using trained models based on the sample pieces. This not only allows artists that are lack of the domain knowledge to accomplish their ideas, but also provides possible creative styles and patterns that may foster the composer's creative process. \n",
    "\n",
    "In the project, a Recurrent Neural Network (RNN) model is built using LSTM and dense layers. The model is then trained on 10 of Frédéric Chopin's Valse and Waltz pieces in MIDI format downloaded from [*kunstderfuge.com*](http://www.kunstderfuge.com/chopin.htm). The MIDI files are converted to numeric, sequential data and fed into the RNN for training. The trained RNN reads a pattern of notes, then generates new notes based on the sequence. \n",
    "\n",
    "Moreover, to explore different styles of piano pieces, a dataset of 8 Nocturne pieces by Frédéric Chopin downloaded from [*8notes.com*](https://www.8notes.com/school/search_fsm.asp?keyword=chopin+nocturne&x=0&y=0&pageA=1) are used to train a complete seperate RNN model. The generated sample pieces from the Valse model and the Nocturne model can be found [here](https://drive.google.com/drive/folders/1EtkZnCGtkbKOGfVaamLZjXdWjsgXqizi?usp=sharing).  \n"
   ]
  },
  {
   "cell_type": "markdown",
   "metadata": {},
   "source": [
    "# Data Preprocessing"
   ]
  },
  {
   "cell_type": "markdown",
   "metadata": {},
   "source": [
    "Import necessary libraries and collect data files."
   ]
  },
  {
   "cell_type": "code",
   "execution_count": 1,
   "metadata": {},
   "outputs": [],
   "source": [
    "import numpy as np\n",
    "import pandas as pd\n",
    "import matplotlib.pyplot as plt\n",
    "%matplotlib inline\n",
    "\n",
    "# need python3.XX-dev, libasound2-dev deb packages\n",
    "from music21 import converter, instrument, note, chord, stream\n",
    "from timidity import Parser, play_notes\n",
    "\n",
    "import pickle\n",
    "import glob\n",
    "\n",
    "from keras.utils import to_categorical\n",
    "from keras.models import Sequential\n",
    "from keras.layers import Activation, Dense, LSTM, Dropout, Flatten, Embedding\n",
    "from keras.callbacks import ModelCheckpoint"
   ]
  },
  {
   "cell_type": "code",
   "execution_count": 2,
   "metadata": {},
   "outputs": [
    {
     "data": {
      "text/plain": [
       "['Nocturnes Dataset\\\\chop32n2.mid',\n",
       " 'Nocturnes Dataset\\\\chopin_cminor_nocturne_b108_PNO.mid',\n",
       " 'Nocturnes Dataset\\\\chopin_nocturneop9nr1.mid',\n",
       " 'Nocturnes Dataset\\\\chopin_nocturne_9_2.mid',\n",
       " 'Nocturnes Dataset\\\\chopin_Nocturne_b49.mid',\n",
       " 'Nocturnes Dataset\\\\chopin_op55_1.mid',\n",
       " 'Nocturnes Dataset\\\\chopin_op55_2.mid',\n",
       " 'Nocturnes Dataset\\\\Nocturne_Opus_72_No_1_in_E_Minor.mid']"
      ]
     },
     "execution_count": 2,
     "metadata": {},
     "output_type": "execute_result"
    }
   ],
   "source": [
    "valseMusic = glob.glob('Nocturnes Dataset/*.mid')\n",
    "valseMusic"
   ]
  },
  {
   "cell_type": "markdown",
   "metadata": {},
   "source": [
    "Using the *music21* library, the MIDI files are first parsed into single instrument track of notes and chords, then chords are further broken down into groups of notes. The MIDI files are concatenated and are eventually converted to a sequence of notes."
   ]
  },
  {
   "cell_type": "code",
   "execution_count": 3,
   "metadata": {},
   "outputs": [],
   "source": [
    "processedNotes = []\n",
    "\n",
    "for valse in valseMusic:\n",
    "    \n",
    "    # parse Midi\n",
    "    valse = converter.parse(valse)\n",
    "    \n",
    "    # Handle cases for multi-instruments\n",
    "    try:\n",
    "        parts = instrument.partitionByInstrument(valse)\n",
    "        notes = parts.parts[0].recurse()\n",
    "    except:\n",
    "        notes = valse.flat.notes\n",
    "    \n",
    "    # Handle chords\n",
    "    for singleNote in notes:\n",
    "        if isinstance(singleNote, chord.Chord):\n",
    "            processedNotes.append('.'.join(str(norm) for norm in singleNote.normalOrder))\n",
    "        elif isinstance(singleNote, note.Note):\n",
    "            processedNotes.append(str(singleNote.pitch))\n",
    "\n",
    "# Save a notes library\n",
    "with open('nocturnesNotesLibrary', 'wb') as file:\n",
    "    pickle.dump(processedNotes, file)"
   ]
  },
  {
   "cell_type": "code",
   "execution_count": 4,
   "metadata": {},
   "outputs": [
    {
     "data": {
      "text/plain": [
       "(6331, ['E2', 'B2', 'G3', 'E3', 'C4', 'B3', 'E2', 'B2', 'G3', 'E3'])"
      ]
     },
     "execution_count": 4,
     "metadata": {},
     "output_type": "execute_result"
    }
   ],
   "source": [
    "len(processedNotes), processedNotes[:10]"
   ]
  },
  {
   "cell_type": "markdown",
   "metadata": {},
   "source": [
    "Furthermore, each unique note/pitch is assigned with a unique number. The sequence of notes is then divided into subsequences, each containing the numeric representation of 100 notes. The training data that is fed into the network is then sequences of 100 numbers, each representing a corresponding note. The label/output of each input sequence is the next note that is after the 100-note sequence, also represented by a number."
   ]
  },
  {
   "cell_type": "code",
   "execution_count": 4,
   "metadata": {},
   "outputs": [],
   "source": [
    "SEQSIZE = 100\n",
    "\n",
    "alphabetSize = len(set(processedNotes))\n",
    "\n",
    "# Find unique pitches\n",
    "pitches = sorted(set(processedNote for processedNote in processedNotes))\n",
    "\n",
    "# a dict to convert each unique note to a unique number.\n",
    "dictRef = dict((pitch, num) for num, pitch in enumerate(pitches))\n",
    "\n",
    "inputNotes = []\n",
    "outputNotes = []\n",
    "\n",
    "# Divide sequence into subsequences of 100 notes, then convert notes to numbers\n",
    "for i in range(0, len(processedNotes) - SEQSIZE):\n",
    "    batchInput = processedNotes[i: i+SEQSIZE]\n",
    "    batchOutput = processedNotes[i+SEQSIZE]\n",
    "    inputNotes.append([dictRef[n] for n in batchInput])\n",
    "    outputNotes.append([dictRef[batchOutput]])\n",
    "\n",
    "# reshape the input and normalize, convert output to categorical.\n",
    "batchNum = len(inputNotes)\n",
    "inputNotes = np.reshape(inputNotes, (batchNum, SEQSIZE, 1)) / float(alphabetSize)\n",
    "outputNotes = to_categorical(outputNotes)"
   ]
  },
  {
   "cell_type": "code",
   "execution_count": 6,
   "metadata": {},
   "outputs": [
    {
     "data": {
      "text/plain": [
       "array([[0.12727273],\n",
       "       [0.12727273],\n",
       "       [0.12727273],\n",
       "       [0.65090909],\n",
       "       [0.00363636]])"
      ]
     },
     "execution_count": 6,
     "metadata": {},
     "output_type": "execute_result"
    }
   ],
   "source": [
    "inputNotes[0][95:]"
   ]
  },
  {
   "cell_type": "code",
   "execution_count": 7,
   "metadata": {},
   "outputs": [
    {
     "data": {
      "text/plain": [
       "dict_items([('0', 0), ('0.1', 1), ('0.1.3', 2), ('0.1.5', 3), ('0.1.6', 4), ('0.2', 5), ('0.2.5', 6), ('0.2.5.6', 7), ('0.2.5.8', 8), ('0.3', 9), ('0.3.4', 10), ('0.3.5', 11), ('0.3.6', 12), ('0.3.7', 13), ('0.4', 14), ('0.4.6', 15), ('0.4.7', 16), ('0.5', 17), ('0.6', 18), ('1', 19), ('1.2', 20), ('1.2.4', 21), ('1.2.6', 22), ('1.2.7', 23), ('1.3', 24), ('1.3.4', 25), ('1.3.8', 26), ('1.4', 27), ('1.4.8', 28), ('1.5', 29), ('1.5.7', 30), ('1.5.8', 31), ('1.6', 32), ('1.7', 33), ('10', 34), ('10.0', 35), ('10.0.3', 36), ('10.0.4', 37), ('10.0.5', 38), ('10.1', 39), ('10.1.2', 40), ('10.1.5', 41), ('10.11', 42), ('10.11.0', 43), ('10.11.1', 44), ('10.2', 45), ('10.2.5', 46), ('10.3', 47), ('11', 48), ('11.0', 49), ('11.0.1', 50), ('11.0.2', 51), ('11.0.2.5', 52), ('11.0.2.5.7', 53), ('11.0.4', 54), ('11.0.5', 55), ('11.1', 56), ('11.1.2', 57), ('11.1.3', 58), ('11.1.4', 59), ('11.1.5', 60), ('11.1.6', 61), ('11.2', 62), ('11.2.4', 63), ('11.2.5', 64), ('11.2.5.7', 65), ('11.2.6', 66), ('11.3', 67), ('11.3.6', 68), ('11.4', 69), ('2', 70), ('2.3', 71), ('2.4', 72), ('2.4.6', 73), ('2.4.8', 74), ('2.5', 75), ('2.5.6.10', 76), ('2.5.8', 77), ('2.6', 78), ('2.6.8', 79), ('2.7', 80), ('2.7.8', 81), ('2.8', 82), ('3', 83), ('3.4', 84), ('3.4.5', 85), ('3.4.6', 86), ('3.4.6.8.9', 87), ('3.5', 88), ('3.5.10', 89), ('3.5.7', 90), ('3.6', 91), ('3.6.7', 92), ('3.6.8', 93), ('3.6.9', 94), ('3.7', 95), ('3.7.10', 96), ('3.8', 97), ('3.9', 98), ('4', 99), ('4.10', 100), ('4.5', 101), ('4.5.6', 102), ('4.5.8.0', 103), ('4.6', 104), ('4.6.11', 105), ('4.6.7.11', 106), ('4.6.8', 107), ('4.6.8.9', 108), ('4.6.9', 109), ('4.7', 110), ('4.7.10', 111), ('4.7.11', 112), ('4.7.9', 113), ('4.8', 114), ('4.8.10', 115), ('4.8.11', 116), ('4.9', 117), ('5', 118), ('5.10', 119), ('5.11', 120), ('5.6', 121), ('5.6.11', 122), ('5.6.8', 123), ('5.7', 124), ('5.7.0', 125), ('5.7.10', 126), ('5.7.10.1', 127), ('5.7.11', 128), ('5.7.8', 129), ('5.8', 130), ('5.8.0', 131), ('5.8.10', 132), ('5.8.11', 133), ('5.8.11.1', 134), ('5.9', 135), ('5.9.0', 136), ('6', 137), ('6.10', 138), ('6.10.0', 139), ('6.10.1', 140), ('6.11', 141), ('6.7', 142), ('6.7.11', 143), ('6.7.9.0.2', 144), ('6.8', 145), ('6.8.0', 146), ('6.8.10', 147), ('6.8.9', 148), ('6.8.9.10', 149), ('6.8.9.11.1', 150), ('6.9', 151), ('6.9.0', 152), ('6.9.0.2', 153), ('6.9.11', 154), ('7', 155), ('7.0', 156), ('7.10', 157), ('7.10.0', 158), ('7.10.0.3', 159), ('7.10.1.3', 160), ('7.10.2', 161), ('7.11', 162), ('7.11.0', 163), ('7.11.1', 164), ('7.8', 165), ('7.8.0', 166), ('7.8.1', 167), ('7.8.10', 168), ('7.8.9', 169), ('7.9', 170), ('7.9.1', 171), ('7.9.11', 172), ('8', 173), ('8.0', 174), ('8.0.2', 175), ('8.0.3', 176), ('8.1', 177), ('8.10', 178), ('8.10.0', 179), ('8.10.1', 180), ('8.10.2', 181), ('8.11', 182), ('8.11.0', 183), ('8.11.1', 184), ('8.11.3', 185), ('8.9', 186), ('8.9.11', 187), ('9', 188), ('9.0', 189), ('9.0.4', 190), ('9.1', 191), ('9.1.3', 192), ('9.1.4', 193), ('9.10', 194), ('9.10.0', 195), ('9.10.0.1', 196), ('9.10.0.1.3', 197), ('9.10.11.0', 198), ('9.10.11.0.3', 199), ('9.11', 200), ('9.11.1', 201), ('9.11.1.3', 202), ('9.11.1.3.4', 203), ('9.11.2', 204), ('9.11.3', 205), ('9.11.4', 206), ('9.2', 207), ('A2', 208), ('A3', 209), ('A4', 210), ('A5', 211), ('A6', 212), ('B-1', 213), ('B-2', 214), ('B-3', 215), ('B-4', 216), ('B-5', 217), ('B-6', 218), ('B1', 219), ('B2', 220), ('B3', 221), ('B4', 222), ('B5', 223), ('C#2', 224), ('C#3', 225), ('C#4', 226), ('C#5', 227), ('C#6', 228), ('C#7', 229), ('C2', 230), ('C3', 231), ('C4', 232), ('C5', 233), ('C6', 234), ('C7', 235), ('D2', 236), ('D3', 237), ('D4', 238), ('D5', 239), ('D6', 240), ('D7', 241), ('E-2', 242), ('E-3', 243), ('E-4', 244), ('E-5', 245), ('E-6', 246), ('E2', 247), ('E3', 248), ('E4', 249), ('E5', 250), ('E6', 251), ('F#1', 252), ('F#2', 253), ('F#3', 254), ('F#4', 255), ('F#5', 256), ('F#6', 257), ('F2', 258), ('F3', 259), ('F4', 260), ('F5', 261), ('F6', 262), ('F7', 263), ('G#1', 264), ('G#2', 265), ('G#3', 266), ('G#4', 267), ('G#5', 268), ('G#6', 269), ('G2', 270), ('G3', 271), ('G4', 272), ('G5', 273), ('G6', 274)])"
      ]
     },
     "execution_count": 7,
     "metadata": {},
     "output_type": "execute_result"
    }
   ],
   "source": [
    "# Notes (pitch) to Index\n",
    "dictRef.items()"
   ]
  },
  {
   "cell_type": "markdown",
   "metadata": {},
   "source": [
    "# RNN Model Training"
   ]
  },
  {
   "cell_type": "markdown",
   "metadata": {},
   "source": [
    "The design of the RNN model is traditional and is structured as follows. Two LSTM-and-Dropout groups are followed by two densely-connected layers, also accompanied by Dropout layers. The output activation function is softmax. Since this is a single-label classification task, categorical crossentropy loss is used. "
   ]
  },
  {
   "cell_type": "code",
   "execution_count": 8,
   "metadata": {},
   "outputs": [
    {
     "data": {
      "text/plain": [
       "6231"
      ]
     },
     "execution_count": 8,
     "metadata": {},
     "output_type": "execute_result"
    }
   ],
   "source": [
    "inputNotes.shape[0]"
   ]
  },
  {
   "cell_type": "code",
   "execution_count": 9,
   "metadata": {},
   "outputs": [],
   "source": [
    "from tensorflow.keras.layers import Input\n",
    "\n",
    "def createRNNModel(inputNotes, outputNum):\n",
    "    \n",
    "    rnnModel = Sequential([\n",
    "        LSTM(128, \n",
    "             #input_shape=inputNotes.shape[1:],\n",
    "             return_sequences=True, \n",
    "             recurrent_initializer='glorot_uniform',\n",
    "             recurrent_activation='sigmoid'), \n",
    "        Dropout(0.2),\n",
    "\n",
    "        LSTM(128, \n",
    "             return_sequences=True,\n",
    "             recurrent_initializer='glorot_uniform',\n",
    "             recurrent_activation='sigmoid'), \n",
    "        Dropout(0.2),\n",
    "\n",
    "        Flatten(),\n",
    "        Dropout(0.2),\n",
    "        Dense(256),\n",
    "        Dropout(0.2),\n",
    "\n",
    "        Dense(outputNum, activation='softmax')\n",
    "    ])\n",
    "    \n",
    "    rnnModel.compile(loss='categorical_crossentropy', optimizer='adam')\n",
    "    \n",
    "    return rnnModel\n",
    "    \n",
    "rnnModel = createRNNModel(inputNotes, alphabetSize)"
   ]
  },
  {
   "cell_type": "markdown",
   "metadata": {},
   "source": [
    "To ensure the style is mapped, the model is trained with 500 epochs. It is worth mentioning that since there are such great varieties in the labels, validation and early stopping mechanisms are not used."
   ]
  },
  {
   "cell_type": "code",
   "execution_count": 10,
   "metadata": {},
   "outputs": [
    {
     "name": "stdout",
     "output_type": "stream",
     "text": [
      "Epoch 1/30\n",
      "\u001b[1m195/195\u001b[0m \u001b[32m━━━━━━━━━━━━━━━━━━━━\u001b[0m\u001b[37m\u001b[0m \u001b[1m0s\u001b[0m 193ms/step - loss: 4.9982\n",
      "Epoch 1: loss improved from inf to 4.88190, saving model to ChopinNocturnesLSTMx2.keras\n",
      "\u001b[1m195/195\u001b[0m \u001b[32m━━━━━━━━━━━━━━━━━━━━\u001b[0m\u001b[37m\u001b[0m \u001b[1m40s\u001b[0m 195ms/step - loss: 4.9976\n",
      "Epoch 2/30\n",
      "\u001b[1m195/195\u001b[0m \u001b[32m━━━━━━━━━━━━━━━━━━━━\u001b[0m\u001b[37m\u001b[0m \u001b[1m0s\u001b[0m 222ms/step - loss: 4.7535\n",
      "Epoch 2: loss improved from 4.88190 to 4.75851, saving model to ChopinNocturnesLSTMx2.keras\n",
      "\u001b[1m195/195\u001b[0m \u001b[32m━━━━━━━━━━━━━━━━━━━━\u001b[0m\u001b[37m\u001b[0m \u001b[1m44s\u001b[0m 223ms/step - loss: 4.7535\n",
      "Epoch 3/30\n",
      "\u001b[1m195/195\u001b[0m \u001b[32m━━━━━━━━━━━━━━━━━━━━\u001b[0m\u001b[37m\u001b[0m \u001b[1m0s\u001b[0m 274ms/step - loss: 4.6916\n",
      "Epoch 3: loss improved from 4.75851 to 4.69023, saving model to ChopinNocturnesLSTMx2.keras\n",
      "\u001b[1m195/195\u001b[0m \u001b[32m━━━━━━━━━━━━━━━━━━━━\u001b[0m\u001b[37m\u001b[0m \u001b[1m54s\u001b[0m 276ms/step - loss: 4.6916\n",
      "Epoch 4/30\n",
      "\u001b[1m195/195\u001b[0m \u001b[32m━━━━━━━━━━━━━━━━━━━━\u001b[0m\u001b[37m\u001b[0m \u001b[1m0s\u001b[0m 192ms/step - loss: 4.6058\n",
      "Epoch 4: loss improved from 4.69023 to 4.60336, saving model to ChopinNocturnesLSTMx2.keras\n",
      "\u001b[1m195/195\u001b[0m \u001b[32m━━━━━━━━━━━━━━━━━━━━\u001b[0m\u001b[37m\u001b[0m \u001b[1m38s\u001b[0m 193ms/step - loss: 4.6058\n",
      "Epoch 5/30\n",
      "\u001b[1m195/195\u001b[0m \u001b[32m━━━━━━━━━━━━━━━━━━━━\u001b[0m\u001b[37m\u001b[0m \u001b[1m0s\u001b[0m 198ms/step - loss: 4.4975\n",
      "Epoch 5: loss improved from 4.60336 to 4.51134, saving model to ChopinNocturnesLSTMx2.keras\n",
      "\u001b[1m195/195\u001b[0m \u001b[32m━━━━━━━━━━━━━━━━━━━━\u001b[0m\u001b[37m\u001b[0m \u001b[1m39s\u001b[0m 199ms/step - loss: 4.4976\n",
      "Epoch 6/30\n",
      "\u001b[1m195/195\u001b[0m \u001b[32m━━━━━━━━━━━━━━━━━━━━\u001b[0m\u001b[37m\u001b[0m \u001b[1m0s\u001b[0m 186ms/step - loss: 4.3787\n",
      "Epoch 6: loss improved from 4.51134 to 4.41776, saving model to ChopinNocturnesLSTMx2.keras\n",
      "\u001b[1m195/195\u001b[0m \u001b[32m━━━━━━━━━━━━━━━━━━━━\u001b[0m\u001b[37m\u001b[0m \u001b[1m37s\u001b[0m 187ms/step - loss: 4.3789\n",
      "Epoch 7/30\n",
      "\u001b[1m195/195\u001b[0m \u001b[32m━━━━━━━━━━━━━━━━━━━━\u001b[0m\u001b[37m\u001b[0m \u001b[1m0s\u001b[0m 202ms/step - loss: 4.2856\n",
      "Epoch 7: loss improved from 4.41776 to 4.32690, saving model to ChopinNocturnesLSTMx2.keras\n",
      "\u001b[1m195/195\u001b[0m \u001b[32m━━━━━━━━━━━━━━━━━━━━\u001b[0m\u001b[37m\u001b[0m \u001b[1m40s\u001b[0m 203ms/step - loss: 4.2858\n",
      "Epoch 8/30\n",
      "\u001b[1m195/195\u001b[0m \u001b[32m━━━━━━━━━━━━━━━━━━━━\u001b[0m\u001b[37m\u001b[0m \u001b[1m0s\u001b[0m 210ms/step - loss: 4.1255\n",
      "Epoch 8: loss improved from 4.32690 to 4.19834, saving model to ChopinNocturnesLSTMx2.keras\n",
      "\u001b[1m195/195\u001b[0m \u001b[32m━━━━━━━━━━━━━━━━━━━━\u001b[0m\u001b[37m\u001b[0m \u001b[1m41s\u001b[0m 211ms/step - loss: 4.1258\n",
      "Epoch 9/30\n",
      "\u001b[1m195/195\u001b[0m \u001b[32m━━━━━━━━━━━━━━━━━━━━\u001b[0m\u001b[37m\u001b[0m \u001b[1m0s\u001b[0m 217ms/step - loss: 3.9854\n",
      "Epoch 9: loss improved from 4.19834 to 4.04192, saving model to ChopinNocturnesLSTMx2.keras\n",
      "\u001b[1m195/195\u001b[0m \u001b[32m━━━━━━━━━━━━━━━━━━━━\u001b[0m\u001b[37m\u001b[0m \u001b[1m43s\u001b[0m 218ms/step - loss: 3.9856\n",
      "Epoch 10/30\n",
      "\u001b[1m195/195\u001b[0m \u001b[32m━━━━━━━━━━━━━━━━━━━━\u001b[0m\u001b[37m\u001b[0m \u001b[1m0s\u001b[0m 193ms/step - loss: 3.7890\n",
      "Epoch 10: loss improved from 4.04192 to 3.85984, saving model to ChopinNocturnesLSTMx2.keras\n",
      "\u001b[1m195/195\u001b[0m \u001b[32m━━━━━━━━━━━━━━━━━━━━\u001b[0m\u001b[37m\u001b[0m \u001b[1m38s\u001b[0m 194ms/step - loss: 3.7894\n",
      "Epoch 11/30\n",
      "\u001b[1m195/195\u001b[0m \u001b[32m━━━━━━━━━━━━━━━━━━━━\u001b[0m\u001b[37m\u001b[0m \u001b[1m0s\u001b[0m 196ms/step - loss: 3.5457\n",
      "Epoch 11: loss improved from 3.85984 to 3.65601, saving model to ChopinNocturnesLSTMx2.keras\n",
      "\u001b[1m195/195\u001b[0m \u001b[32m━━━━━━━━━━━━━━━━━━━━\u001b[0m\u001b[37m\u001b[0m \u001b[1m39s\u001b[0m 198ms/step - loss: 3.5462\n",
      "Epoch 12/30\n",
      "\u001b[1m195/195\u001b[0m \u001b[32m━━━━━━━━━━━━━━━━━━━━\u001b[0m\u001b[37m\u001b[0m \u001b[1m0s\u001b[0m 200ms/step - loss: 3.3311\n",
      "Epoch 12: loss improved from 3.65601 to 3.43221, saving model to ChopinNocturnesLSTMx2.keras\n",
      "\u001b[1m195/195\u001b[0m \u001b[32m━━━━━━━━━━━━━━━━━━━━\u001b[0m\u001b[37m\u001b[0m \u001b[1m39s\u001b[0m 202ms/step - loss: 3.3317\n",
      "Epoch 13/30\n",
      "\u001b[1m195/195\u001b[0m \u001b[32m━━━━━━━━━━━━━━━━━━━━\u001b[0m\u001b[37m\u001b[0m \u001b[1m0s\u001b[0m 197ms/step - loss: 3.0959\n",
      "Epoch 13: loss improved from 3.43221 to 3.24440, saving model to ChopinNocturnesLSTMx2.keras\n",
      "\u001b[1m195/195\u001b[0m \u001b[32m━━━━━━━━━━━━━━━━━━━━\u001b[0m\u001b[37m\u001b[0m \u001b[1m39s\u001b[0m 199ms/step - loss: 3.0967\n",
      "Epoch 14/30\n",
      "\u001b[1m195/195\u001b[0m \u001b[32m━━━━━━━━━━━━━━━━━━━━\u001b[0m\u001b[37m\u001b[0m \u001b[1m0s\u001b[0m 201ms/step - loss: 2.8485\n",
      "Epoch 14: loss improved from 3.24440 to 2.99120, saving model to ChopinNocturnesLSTMx2.keras\n",
      "\u001b[1m195/195\u001b[0m \u001b[32m━━━━━━━━━━━━━━━━━━━━\u001b[0m\u001b[37m\u001b[0m \u001b[1m40s\u001b[0m 203ms/step - loss: 2.8492\n",
      "Epoch 15/30\n",
      "\u001b[1m195/195\u001b[0m \u001b[32m━━━━━━━━━━━━━━━━━━━━\u001b[0m\u001b[37m\u001b[0m \u001b[1m0s\u001b[0m 196ms/step - loss: 2.5328\n",
      "Epoch 15: loss improved from 2.99120 to 2.73294, saving model to ChopinNocturnesLSTMx2.keras\n",
      "\u001b[1m195/195\u001b[0m \u001b[32m━━━━━━━━━━━━━━━━━━━━\u001b[0m\u001b[37m\u001b[0m \u001b[1m39s\u001b[0m 198ms/step - loss: 2.5338\n",
      "Epoch 16/30\n",
      "\u001b[1m195/195\u001b[0m \u001b[32m━━━━━━━━━━━━━━━━━━━━\u001b[0m\u001b[37m\u001b[0m \u001b[1m0s\u001b[0m 199ms/step - loss: 2.3303\n",
      "Epoch 16: loss improved from 2.73294 to 2.46868, saving model to ChopinNocturnesLSTMx2.keras\n",
      "\u001b[1m195/195\u001b[0m \u001b[32m━━━━━━━━━━━━━━━━━━━━\u001b[0m\u001b[37m\u001b[0m \u001b[1m39s\u001b[0m 201ms/step - loss: 2.3310\n",
      "Epoch 17/30\n",
      "\u001b[1m195/195\u001b[0m \u001b[32m━━━━━━━━━━━━━━━━━━━━\u001b[0m\u001b[37m\u001b[0m \u001b[1m0s\u001b[0m 198ms/step - loss: 2.0323\n",
      "Epoch 17: loss improved from 2.46868 to 2.18128, saving model to ChopinNocturnesLSTMx2.keras\n",
      "\u001b[1m195/195\u001b[0m \u001b[32m━━━━━━━━━━━━━━━━━━━━\u001b[0m\u001b[37m\u001b[0m \u001b[1m39s\u001b[0m 200ms/step - loss: 2.0331\n",
      "Epoch 18/30\n",
      "\u001b[1m195/195\u001b[0m \u001b[32m━━━━━━━━━━━━━━━━━━━━\u001b[0m\u001b[37m\u001b[0m \u001b[1m0s\u001b[0m 201ms/step - loss: 1.7235\n",
      "Epoch 18: loss improved from 2.18128 to 1.88259, saving model to ChopinNocturnesLSTMx2.keras\n",
      "\u001b[1m195/195\u001b[0m \u001b[32m━━━━━━━━━━━━━━━━━━━━\u001b[0m\u001b[37m\u001b[0m \u001b[1m40s\u001b[0m 203ms/step - loss: 1.7243\n",
      "Epoch 19/30\n",
      "\u001b[1m195/195\u001b[0m \u001b[32m━━━━━━━━━━━━━━━━━━━━\u001b[0m\u001b[37m\u001b[0m \u001b[1m0s\u001b[0m 217ms/step - loss: 1.4385\n",
      "Epoch 19: loss improved from 1.88259 to 1.62017, saving model to ChopinNocturnesLSTMx2.keras\n",
      "\u001b[1m195/195\u001b[0m \u001b[32m━━━━━━━━━━━━━━━━━━━━\u001b[0m\u001b[37m\u001b[0m \u001b[1m43s\u001b[0m 219ms/step - loss: 1.4394\n",
      "Epoch 20/30\n",
      "\u001b[1m195/195\u001b[0m \u001b[32m━━━━━━━━━━━━━━━━━━━━\u001b[0m\u001b[37m\u001b[0m \u001b[1m0s\u001b[0m 174ms/step - loss: 1.1977\n",
      "Epoch 20: loss improved from 1.62017 to 1.36118, saving model to ChopinNocturnesLSTMx2.keras\n",
      "\u001b[1m195/195\u001b[0m \u001b[32m━━━━━━━━━━━━━━━━━━━━\u001b[0m\u001b[37m\u001b[0m \u001b[1m34s\u001b[0m 175ms/step - loss: 1.1986\n",
      "Epoch 21/30\n",
      "\u001b[1m195/195\u001b[0m \u001b[32m━━━━━━━━━━━━━━━━━━━━\u001b[0m\u001b[37m\u001b[0m \u001b[1m0s\u001b[0m 206ms/step - loss: 0.9996\n",
      "Epoch 21: loss improved from 1.36118 to 1.12071, saving model to ChopinNocturnesLSTMx2.keras\n",
      "\u001b[1m195/195\u001b[0m \u001b[32m━━━━━━━━━━━━━━━━━━━━\u001b[0m\u001b[37m\u001b[0m \u001b[1m41s\u001b[0m 208ms/step - loss: 1.0003\n",
      "Epoch 22/30\n",
      "\u001b[1m195/195\u001b[0m \u001b[32m━━━━━━━━━━━━━━━━━━━━\u001b[0m\u001b[37m\u001b[0m \u001b[1m0s\u001b[0m 189ms/step - loss: 0.8801\n",
      "Epoch 22: loss improved from 1.12071 to 0.93473, saving model to ChopinNocturnesLSTMx2.keras\n",
      "\u001b[1m195/195\u001b[0m \u001b[32m━━━━━━━━━━━━━━━━━━━━\u001b[0m\u001b[37m\u001b[0m \u001b[1m37s\u001b[0m 190ms/step - loss: 0.8804\n",
      "Epoch 23/30\n",
      "\u001b[1m195/195\u001b[0m \u001b[32m━━━━━━━━━━━━━━━━━━━━\u001b[0m\u001b[37m\u001b[0m \u001b[1m0s\u001b[0m 180ms/step - loss: 0.6798\n",
      "Epoch 23: loss improved from 0.93473 to 0.76457, saving model to ChopinNocturnesLSTMx2.keras\n",
      "\u001b[1m195/195\u001b[0m \u001b[32m━━━━━━━━━━━━━━━━━━━━\u001b[0m\u001b[37m\u001b[0m \u001b[1m35s\u001b[0m 181ms/step - loss: 0.6803\n",
      "Epoch 24/30\n",
      "\u001b[1m195/195\u001b[0m \u001b[32m━━━━━━━━━━━━━━━━━━━━\u001b[0m\u001b[37m\u001b[0m \u001b[1m0s\u001b[0m 183ms/step - loss: 0.5594\n",
      "Epoch 24: loss improved from 0.76457 to 0.65459, saving model to ChopinNocturnesLSTMx2.keras\n",
      "\u001b[1m195/195\u001b[0m \u001b[32m━━━━━━━━━━━━━━━━━━━━\u001b[0m\u001b[37m\u001b[0m \u001b[1m36s\u001b[0m 184ms/step - loss: 0.5599\n",
      "Epoch 25/30\n",
      "\u001b[1m195/195\u001b[0m \u001b[32m━━━━━━━━━━━━━━━━━━━━\u001b[0m\u001b[37m\u001b[0m \u001b[1m0s\u001b[0m 174ms/step - loss: 0.4702\n",
      "Epoch 25: loss improved from 0.65459 to 0.53350, saving model to ChopinNocturnesLSTMx2.keras\n",
      "\u001b[1m195/195\u001b[0m \u001b[32m━━━━━━━━━━━━━━━━━━━━\u001b[0m\u001b[37m\u001b[0m \u001b[1m34s\u001b[0m 176ms/step - loss: 0.4706\n",
      "Epoch 26/30\n",
      "\u001b[1m195/195\u001b[0m \u001b[32m━━━━━━━━━━━━━━━━━━━━\u001b[0m\u001b[37m\u001b[0m \u001b[1m0s\u001b[0m 233ms/step - loss: 0.4118\n",
      "Epoch 26: loss improved from 0.53350 to 0.48350, saving model to ChopinNocturnesLSTMx2.keras\n",
      "\u001b[1m195/195\u001b[0m \u001b[32m━━━━━━━━━━━━━━━━━━━━\u001b[0m\u001b[37m\u001b[0m \u001b[1m46s\u001b[0m 234ms/step - loss: 0.4121\n",
      "Epoch 27/30\n",
      "\u001b[1m195/195\u001b[0m \u001b[32m━━━━━━━━━━━━━━━━━━━━\u001b[0m\u001b[37m\u001b[0m \u001b[1m0s\u001b[0m 193ms/step - loss: 0.3716\n",
      "Epoch 27: loss improved from 0.48350 to 0.38438, saving model to ChopinNocturnesLSTMx2.keras\n",
      "\u001b[1m195/195\u001b[0m \u001b[32m━━━━━━━━━━━━━━━━━━━━\u001b[0m\u001b[37m\u001b[0m \u001b[1m38s\u001b[0m 195ms/step - loss: 0.3717\n",
      "Epoch 28/30\n",
      "\u001b[1m195/195\u001b[0m \u001b[32m━━━━━━━━━━━━━━━━━━━━\u001b[0m\u001b[37m\u001b[0m \u001b[1m0s\u001b[0m 170ms/step - loss: 0.3171\n",
      "Epoch 28: loss improved from 0.38438 to 0.35742, saving model to ChopinNocturnesLSTMx2.keras\n",
      "\u001b[1m195/195\u001b[0m \u001b[32m━━━━━━━━━━━━━━━━━━━━\u001b[0m\u001b[37m\u001b[0m \u001b[1m33s\u001b[0m 171ms/step - loss: 0.3173\n",
      "Epoch 29/30\n",
      "\u001b[1m195/195\u001b[0m \u001b[32m━━━━━━━━━━━━━━━━━━━━\u001b[0m\u001b[37m\u001b[0m \u001b[1m0s\u001b[0m 195ms/step - loss: 0.3022\n",
      "Epoch 29: loss improved from 0.35742 to 0.33945, saving model to ChopinNocturnesLSTMx2.keras\n",
      "\u001b[1m195/195\u001b[0m \u001b[32m━━━━━━━━━━━━━━━━━━━━\u001b[0m\u001b[37m\u001b[0m \u001b[1m38s\u001b[0m 197ms/step - loss: 0.3024\n",
      "Epoch 30/30\n",
      "\u001b[1m195/195\u001b[0m \u001b[32m━━━━━━━━━━━━━━━━━━━━\u001b[0m\u001b[37m\u001b[0m \u001b[1m0s\u001b[0m 167ms/step - loss: 0.2676\n",
      "Epoch 30: loss improved from 0.33945 to 0.31216, saving model to ChopinNocturnesLSTMx2.keras\n",
      "\u001b[1m195/195\u001b[0m \u001b[32m━━━━━━━━━━━━━━━━━━━━\u001b[0m\u001b[37m\u001b[0m \u001b[1m33s\u001b[0m 169ms/step - loss: 0.2679\n"
     ]
    },
    {
     "data": {
      "text/html": [
       "<pre style=\"white-space:pre;overflow-x:auto;line-height:normal;font-family:Menlo,'DejaVu Sans Mono',consolas,'Courier New',monospace\"><span style=\"font-weight: bold\">Model: \"sequential\"</span>\n",
       "</pre>\n"
      ],
      "text/plain": [
       "\u001b[1mModel: \"sequential\"\u001b[0m\n"
      ]
     },
     "metadata": {},
     "output_type": "display_data"
    },
    {
     "data": {
      "text/html": [
       "<pre style=\"white-space:pre;overflow-x:auto;line-height:normal;font-family:Menlo,'DejaVu Sans Mono',consolas,'Courier New',monospace\">┏━━━━━━━━━━━━━━━━━━━━━━━━━━━━━━━━━┳━━━━━━━━━━━━━━━━━━━━━━━━┳━━━━━━━━━━━━━━━┓\n",
       "┃<span style=\"font-weight: bold\"> Layer (type)                    </span>┃<span style=\"font-weight: bold\"> Output Shape           </span>┃<span style=\"font-weight: bold\">       Param # </span>┃\n",
       "┡━━━━━━━━━━━━━━━━━━━━━━━━━━━━━━━━━╇━━━━━━━━━━━━━━━━━━━━━━━━╇━━━━━━━━━━━━━━━┩\n",
       "│ lstm (<span style=\"color: #0087ff; text-decoration-color: #0087ff\">LSTM</span>)                     │ (<span style=\"color: #00d7ff; text-decoration-color: #00d7ff\">None</span>, <span style=\"color: #00af00; text-decoration-color: #00af00\">100</span>, <span style=\"color: #00af00; text-decoration-color: #00af00\">128</span>)       │        <span style=\"color: #00af00; text-decoration-color: #00af00\">66,560</span> │\n",
       "├─────────────────────────────────┼────────────────────────┼───────────────┤\n",
       "│ dropout (<span style=\"color: #0087ff; text-decoration-color: #0087ff\">Dropout</span>)               │ (<span style=\"color: #00d7ff; text-decoration-color: #00d7ff\">None</span>, <span style=\"color: #00af00; text-decoration-color: #00af00\">100</span>, <span style=\"color: #00af00; text-decoration-color: #00af00\">128</span>)       │             <span style=\"color: #00af00; text-decoration-color: #00af00\">0</span> │\n",
       "├─────────────────────────────────┼────────────────────────┼───────────────┤\n",
       "│ lstm_1 (<span style=\"color: #0087ff; text-decoration-color: #0087ff\">LSTM</span>)                   │ (<span style=\"color: #00d7ff; text-decoration-color: #00d7ff\">None</span>, <span style=\"color: #00af00; text-decoration-color: #00af00\">100</span>, <span style=\"color: #00af00; text-decoration-color: #00af00\">128</span>)       │       <span style=\"color: #00af00; text-decoration-color: #00af00\">131,584</span> │\n",
       "├─────────────────────────────────┼────────────────────────┼───────────────┤\n",
       "│ dropout_1 (<span style=\"color: #0087ff; text-decoration-color: #0087ff\">Dropout</span>)             │ (<span style=\"color: #00d7ff; text-decoration-color: #00d7ff\">None</span>, <span style=\"color: #00af00; text-decoration-color: #00af00\">100</span>, <span style=\"color: #00af00; text-decoration-color: #00af00\">128</span>)       │             <span style=\"color: #00af00; text-decoration-color: #00af00\">0</span> │\n",
       "├─────────────────────────────────┼────────────────────────┼───────────────┤\n",
       "│ flatten (<span style=\"color: #0087ff; text-decoration-color: #0087ff\">Flatten</span>)               │ (<span style=\"color: #00d7ff; text-decoration-color: #00d7ff\">None</span>, <span style=\"color: #00af00; text-decoration-color: #00af00\">12800</span>)          │             <span style=\"color: #00af00; text-decoration-color: #00af00\">0</span> │\n",
       "├─────────────────────────────────┼────────────────────────┼───────────────┤\n",
       "│ dropout_2 (<span style=\"color: #0087ff; text-decoration-color: #0087ff\">Dropout</span>)             │ (<span style=\"color: #00d7ff; text-decoration-color: #00d7ff\">None</span>, <span style=\"color: #00af00; text-decoration-color: #00af00\">12800</span>)          │             <span style=\"color: #00af00; text-decoration-color: #00af00\">0</span> │\n",
       "├─────────────────────────────────┼────────────────────────┼───────────────┤\n",
       "│ dense (<span style=\"color: #0087ff; text-decoration-color: #0087ff\">Dense</span>)                   │ (<span style=\"color: #00d7ff; text-decoration-color: #00d7ff\">None</span>, <span style=\"color: #00af00; text-decoration-color: #00af00\">256</span>)            │     <span style=\"color: #00af00; text-decoration-color: #00af00\">3,277,056</span> │\n",
       "├─────────────────────────────────┼────────────────────────┼───────────────┤\n",
       "│ dropout_3 (<span style=\"color: #0087ff; text-decoration-color: #0087ff\">Dropout</span>)             │ (<span style=\"color: #00d7ff; text-decoration-color: #00d7ff\">None</span>, <span style=\"color: #00af00; text-decoration-color: #00af00\">256</span>)            │             <span style=\"color: #00af00; text-decoration-color: #00af00\">0</span> │\n",
       "├─────────────────────────────────┼────────────────────────┼───────────────┤\n",
       "│ dense_1 (<span style=\"color: #0087ff; text-decoration-color: #0087ff\">Dense</span>)                 │ (<span style=\"color: #00d7ff; text-decoration-color: #00d7ff\">None</span>, <span style=\"color: #00af00; text-decoration-color: #00af00\">275</span>)            │        <span style=\"color: #00af00; text-decoration-color: #00af00\">70,675</span> │\n",
       "└─────────────────────────────────┴────────────────────────┴───────────────┘\n",
       "</pre>\n"
      ],
      "text/plain": [
       "┏━━━━━━━━━━━━━━━━━━━━━━━━━━━━━━━━━┳━━━━━━━━━━━━━━━━━━━━━━━━┳━━━━━━━━━━━━━━━┓\n",
       "┃\u001b[1m \u001b[0m\u001b[1mLayer (type)                   \u001b[0m\u001b[1m \u001b[0m┃\u001b[1m \u001b[0m\u001b[1mOutput Shape          \u001b[0m\u001b[1m \u001b[0m┃\u001b[1m \u001b[0m\u001b[1m      Param #\u001b[0m\u001b[1m \u001b[0m┃\n",
       "┡━━━━━━━━━━━━━━━━━━━━━━━━━━━━━━━━━╇━━━━━━━━━━━━━━━━━━━━━━━━╇━━━━━━━━━━━━━━━┩\n",
       "│ lstm (\u001b[38;5;33mLSTM\u001b[0m)                     │ (\u001b[38;5;45mNone\u001b[0m, \u001b[38;5;34m100\u001b[0m, \u001b[38;5;34m128\u001b[0m)       │        \u001b[38;5;34m66,560\u001b[0m │\n",
       "├─────────────────────────────────┼────────────────────────┼───────────────┤\n",
       "│ dropout (\u001b[38;5;33mDropout\u001b[0m)               │ (\u001b[38;5;45mNone\u001b[0m, \u001b[38;5;34m100\u001b[0m, \u001b[38;5;34m128\u001b[0m)       │             \u001b[38;5;34m0\u001b[0m │\n",
       "├─────────────────────────────────┼────────────────────────┼───────────────┤\n",
       "│ lstm_1 (\u001b[38;5;33mLSTM\u001b[0m)                   │ (\u001b[38;5;45mNone\u001b[0m, \u001b[38;5;34m100\u001b[0m, \u001b[38;5;34m128\u001b[0m)       │       \u001b[38;5;34m131,584\u001b[0m │\n",
       "├─────────────────────────────────┼────────────────────────┼───────────────┤\n",
       "│ dropout_1 (\u001b[38;5;33mDropout\u001b[0m)             │ (\u001b[38;5;45mNone\u001b[0m, \u001b[38;5;34m100\u001b[0m, \u001b[38;5;34m128\u001b[0m)       │             \u001b[38;5;34m0\u001b[0m │\n",
       "├─────────────────────────────────┼────────────────────────┼───────────────┤\n",
       "│ flatten (\u001b[38;5;33mFlatten\u001b[0m)               │ (\u001b[38;5;45mNone\u001b[0m, \u001b[38;5;34m12800\u001b[0m)          │             \u001b[38;5;34m0\u001b[0m │\n",
       "├─────────────────────────────────┼────────────────────────┼───────────────┤\n",
       "│ dropout_2 (\u001b[38;5;33mDropout\u001b[0m)             │ (\u001b[38;5;45mNone\u001b[0m, \u001b[38;5;34m12800\u001b[0m)          │             \u001b[38;5;34m0\u001b[0m │\n",
       "├─────────────────────────────────┼────────────────────────┼───────────────┤\n",
       "│ dense (\u001b[38;5;33mDense\u001b[0m)                   │ (\u001b[38;5;45mNone\u001b[0m, \u001b[38;5;34m256\u001b[0m)            │     \u001b[38;5;34m3,277,056\u001b[0m │\n",
       "├─────────────────────────────────┼────────────────────────┼───────────────┤\n",
       "│ dropout_3 (\u001b[38;5;33mDropout\u001b[0m)             │ (\u001b[38;5;45mNone\u001b[0m, \u001b[38;5;34m256\u001b[0m)            │             \u001b[38;5;34m0\u001b[0m │\n",
       "├─────────────────────────────────┼────────────────────────┼───────────────┤\n",
       "│ dense_1 (\u001b[38;5;33mDense\u001b[0m)                 │ (\u001b[38;5;45mNone\u001b[0m, \u001b[38;5;34m275\u001b[0m)            │        \u001b[38;5;34m70,675\u001b[0m │\n",
       "└─────────────────────────────────┴────────────────────────┴───────────────┘\n"
      ]
     },
     "metadata": {},
     "output_type": "display_data"
    },
    {
     "data": {
      "text/html": [
       "<pre style=\"white-space:pre;overflow-x:auto;line-height:normal;font-family:Menlo,'DejaVu Sans Mono',consolas,'Courier New',monospace\"><span style=\"font-weight: bold\"> Total params: </span><span style=\"color: #00af00; text-decoration-color: #00af00\">10,637,627</span> (40.58 MB)\n",
       "</pre>\n"
      ],
      "text/plain": [
       "\u001b[1m Total params: \u001b[0m\u001b[38;5;34m10,637,627\u001b[0m (40.58 MB)\n"
      ]
     },
     "metadata": {},
     "output_type": "display_data"
    },
    {
     "data": {
      "text/html": [
       "<pre style=\"white-space:pre;overflow-x:auto;line-height:normal;font-family:Menlo,'DejaVu Sans Mono',consolas,'Courier New',monospace\"><span style=\"font-weight: bold\"> Trainable params: </span><span style=\"color: #00af00; text-decoration-color: #00af00\">3,545,875</span> (13.53 MB)\n",
       "</pre>\n"
      ],
      "text/plain": [
       "\u001b[1m Trainable params: \u001b[0m\u001b[38;5;34m3,545,875\u001b[0m (13.53 MB)\n"
      ]
     },
     "metadata": {},
     "output_type": "display_data"
    },
    {
     "data": {
      "text/html": [
       "<pre style=\"white-space:pre;overflow-x:auto;line-height:normal;font-family:Menlo,'DejaVu Sans Mono',consolas,'Courier New',monospace\"><span style=\"font-weight: bold\"> Non-trainable params: </span><span style=\"color: #00af00; text-decoration-color: #00af00\">0</span> (0.00 B)\n",
       "</pre>\n"
      ],
      "text/plain": [
       "\u001b[1m Non-trainable params: \u001b[0m\u001b[38;5;34m0\u001b[0m (0.00 B)\n"
      ]
     },
     "metadata": {},
     "output_type": "display_data"
    },
    {
     "data": {
      "text/html": [
       "<pre style=\"white-space:pre;overflow-x:auto;line-height:normal;font-family:Menlo,'DejaVu Sans Mono',consolas,'Courier New',monospace\"><span style=\"font-weight: bold\"> Optimizer params: </span><span style=\"color: #00af00; text-decoration-color: #00af00\">7,091,752</span> (27.05 MB)\n",
       "</pre>\n"
      ],
      "text/plain": [
       "\u001b[1m Optimizer params: \u001b[0m\u001b[38;5;34m7,091,752\u001b[0m (27.05 MB)\n"
      ]
     },
     "metadata": {},
     "output_type": "display_data"
    }
   ],
   "source": [
    "checkpointCallback = ModelCheckpoint('ChopinNocturnesLSTMx2.keras', monitor='loss', \n",
    "                             verbose=2, save_best_only=True)\n",
    "rnnModel.fit(inputNotes, outputNotes, epochs=30, batch_size=32, callbacks=[checkpointCallback])\n",
    "rnnModel.summary()"
   ]
  },
  {
   "cell_type": "code",
   "execution_count": 11,
   "metadata": {},
   "outputs": [
    {
     "data": {
      "text/plain": [
       "<Axes: >"
      ]
     },
     "execution_count": 11,
     "metadata": {},
     "output_type": "execute_result"
    },
    {
     "data": {
      "image/png": "[encoded data removed]",
      "text/plain": [
       "<Figure size 640x480 with 1 Axes>"
      ]
     },
     "metadata": {
      "image/png": {
       "height": 413,
       "width": 536
      }
     },
     "output_type": "display_data"
    }
   ],
   "source": [
    "modelLoss = pd.DataFrame(rnnModel.history.history)\n",
    "modelLoss.plot()"
   ]
  },
  {
   "cell_type": "markdown",
   "metadata": {},
   "source": [
    "# Music Generation"
   ]
  },
  {
   "cell_type": "markdown",
   "metadata": {},
   "source": [
    "After the weights are re-loaded into the model, five sequences of 100 numbers, each representing a 100-note sequence, are randomly drawn to be the input data for model prediction. "
   ]
  },
  {
   "cell_type": "code",
   "execution_count": 12,
   "metadata": {},
   "outputs": [],
   "source": [
    "from tensorflow.keras.models import load_model\n",
    "\n",
    "SEQSIZE = 100\n",
    "\n",
    "# Set up prediction input by mapping notes to integers.\n",
    "inputNotes = []\n",
    "\n",
    "for i in range(0, len(notes) - SEQSIZE):\n",
    "    batchInput = processedNotes[i: i+SEQSIZE]\n",
    "    inputNotes.append([dictRef[n] for n in batchInput])\n",
    "\n",
    "# reshape input and normalize\n",
    "batchNum = len(inputNotes)    \n",
    "inputNotes = np.reshape(inputNotes, (batchNum, SEQSIZE, 1)) / float(alphabetSize)\n",
    "\n",
    "# create model using weight.\n",
    "#rnnModel2 = createRNNModel(inputNotes, alphabetSize)\n",
    "#rnnModel2.load_weights('ChopinNocturnesLSTMx2.keras')\n",
    "\n",
    "# load the best model.\n",
    "rnnModel2 = load_model('ChopinNocturnesLSTMx2.keras')\n",
    "\n",
    "# inputs: 5 random sequences\n",
    "patterns = []\n",
    "for i in range(0, 5):\n",
    "    startNote = np.random.randint(0, len(inputNotes)-1)\n",
    "    patterns.append(list(inputNotes[startNote]))\n",
    "    \n",
    "dictRefReverse = dict((num, pitch) for num, pitch in enumerate(pitches))"
   ]
  },
  {
   "cell_type": "markdown",
   "metadata": {},
   "source": [
    "5 predictions are made based on the 5 randomly selected input sequences. Each input is first reshaped and normalized before fed into the model. The prediction output is then converted to a note, and is used to generate the next note as part of the input sequence."
   ]
  },
  {
   "cell_type": "code",
   "execution_count": 13,
   "metadata": {},
   "outputs": [
    {
     "name": "stdout",
     "output_type": "stream",
     "text": [
      "1 song created.\n",
      "2 song created.\n",
      "3 song created.\n",
      "4 song created.\n",
      "5 song created.\n"
     ]
    }
   ],
   "source": [
    "from copy import deepcopy\n",
    "songs = [[], [], [], [], []]\n",
    "\n",
    "# predict, generate output notes.\n",
    "# Generate 5 songs, each song has 800 notes.\n",
    "for j in range(5):\n",
    "    pat = deepcopy(patterns[j])\n",
    "\n",
    "    for _ in range(100):\n",
    "        # reshape input and predict\n",
    "        #print(pat[95:])\n",
    "        predIn = np.reshape(pat, (1, len(pat), 1)) #/ float(alphabetSize)\n",
    "        prediction = rnnModel2.predict(predIn, verbose=0)\n",
    "        \n",
    "        # Convert prediction back to notes\n",
    "        index = np.argmax(prediction)\n",
    "        prediction = dictRefReverse[index]\n",
    "        \n",
    "        # append to output, and use the new note for further generation.\n",
    "        songs[j].append(prediction)\n",
    "        #print(prediction, end=\" \")\n",
    "        pat.append(np.array([index/alphabetSize]))\n",
    "        pat = pat[1: len(pat)]\n",
    "    print('{} song created.'.format(j+1))"
   ]
  },
  {
   "cell_type": "markdown",
   "metadata": {},
   "source": [
    "The prediction outputs, each from a sequence of notes, are converted back to a stream of MIDI data. "
   ]
  },
  {
   "cell_type": "code",
   "execution_count": 14,
   "metadata": {},
   "outputs": [],
   "source": [
    "def generateMidi(outputNotes, fileName):\n",
    "    offset = 0\n",
    "    midiOutput = []\n",
    "\n",
    "    for notePat in outputNotes:\n",
    "\n",
    "        # It is a chord.\n",
    "        if ('.' in notePat) or notePat.isdigit():\n",
    "\n",
    "                # Split to notes\n",
    "                notes_in_chord = notePat.split('.')\n",
    "                notes = []\n",
    "\n",
    "                # chord as notes\n",
    "                for eachNote in notes_in_chord:\n",
    "                    new_note = note.Note(int(eachNote))\n",
    "                    new_note.storedInstrument = instrument.Piano()\n",
    "                    notes.append(new_note)\n",
    "\n",
    "                # Convert to midi chord and store\n",
    "                new_chord = chord.Chord(notes)\n",
    "                new_chord.offset = offset\n",
    "                midiOutput.append(new_chord)\n",
    "\n",
    "        # pattern is a note\n",
    "        else:\n",
    "            # Convert to midi note and store\n",
    "            new_note = note.Note(notePat)\n",
    "            new_note.offset = offset\n",
    "            new_note.storedInstrument = instrument.Piano()\n",
    "            midiOutput.append(new_note)\n",
    "\n",
    "        # increase offset to make sure notes do not stack\n",
    "        offset += 0.5\n",
    "\n",
    "    # Convert to midi stream\n",
    "    midiOutput = stream.Stream(midiOutput)\n",
    "    midiOutput.write('midi', fp=fileName)\n",
    "    \n",
    "for num, song in enumerate(songs):\n",
    "    generateMidi(song, 'ChopinNocturnesGenerated_{}.mid'.format(num))\n"
   ]
  },
  {
   "cell_type": "code",
   "execution_count": 15,
   "metadata": {},
   "outputs": [
    {
     "name": "stdout",
     "output_type": "stream",
     "text": [
      "Created MIDI parser on file ChopinNocturnesGenerated_4.mid\n",
      "BPM: 120\n",
      "Time Signature: 4 / 4\n",
      "Arranging notes... 136 / 136\n",
      "Playing song...\n"
     ]
    },
    {
     "data": {
      "text/plain": [
       "(array([    0,   102,   205, ..., -1118,  -310,   509], dtype=int16),\n",
       " <simpleaudio.shiny.PlayObject at 0x1afbb556cd0>)"
      ]
     },
     "execution_count": 15,
     "metadata": {},
     "output_type": "execute_result"
    }
   ],
   "source": [
    "# Listen to the midi music, uncomment the file wish to listen.\n",
    "# ps = Parser(\"ChopinValseGenerated_0.mid\")\n",
    "# ps = Parser(\"ChopinValseGenerated_1.mid\")\n",
    "# ps = Parser(\"ChopinValseGenerated_2.mid\")\n",
    "# ps = Parser(\"ChopinValseGenerated_3.mid\")\n",
    "# ps = Parser(\"ChopinValseGenerated_4.mid\")\n",
    "# ps = Parser(\"ChopinNocturnesGenerated_0.mid\")\n",
    "# ps = Parser(\"ChopinNocturnesGenerated_1.mid\")\n",
    "# ps = Parser(\"ChopinNocturnesGenerated_2.mid\")\n",
    "# ps = Parser(\"ChopinNocturnesGenerated_3.mid\")\n",
    "ps = Parser(\"ChopinNocturnesGenerated_4.mid\")\n",
    "\n",
    "play_notes(*ps.parse(), np.sin)"
   ]
  },
  {
   "cell_type": "markdown",
   "metadata": {},
   "source": [
    "# Conclusion"
   ]
  },
  {
   "cell_type": "markdown",
   "metadata": {},
   "source": [
    "Music generation is a new emerging field with recent advance in deep learning. As a crossroad of technology and art, it extends the ability of artists and brings new elements of style and tempo into music creation. In this music generation project, an LSTM-based RNN model is designed, implemented and trained with a set of 10 Chopin's Valse, and separately, a set of 8 Chopin's Nocturnes. While the generated music pieces are definitely of no match to Frédéric Chopin's original pieces, it provides an insight to the ability of deep learning in art generation, and has proven that music pieces generated by deep learning models are non-trivial and possess a considerable degree of artistic values."
   ]
  }
 ],
 "metadata": {
  "kernelspec": {
   "display_name": "venv",
   "language": "python",
   "name": "python3"
  },
  "language_info": {
   "codemirror_mode": {
    "name": "ipython",
    "version": 3
   },
   "file_extension": ".py",
   "mimetype": "text/x-python",
   "name": "python",
   "nbconvert_exporter": "python",
   "pygments_lexer": "ipython3",
   "version": "3.11.9"
  }
 },
 "nbformat": 4,
 "nbformat_minor": 4
}
