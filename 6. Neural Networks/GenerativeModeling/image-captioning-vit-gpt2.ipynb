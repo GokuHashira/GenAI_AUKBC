{
 "cells": [
  {
   "cell_type": "markdown",
   "metadata": {},
   "source": [
    "\n",
    "<b><font size = 2><span style=\"font-family:'Times New Roman';color:#A8642A\">🖼Image Captioning :  ViT + GPT2💬 </span></font></b>  \n",
    "\n",
    "<b><font size = 2><span style=\"font-family:'Times New Roman';color:#A8642A;\">Created By Burhanuddin Latsaheb </span></font> </b> \n",
    "\n",
    "# <center><font size = 8><span style=\"color:#422711;font-family:'Times New Roman'\"> Image Captioning :  ViT + GPT2</span></font></center>\n",
    "\n",
    "\n",
    "## <center><font size =4><span style=\"font-family:'Times New Roman';color:#F6923D\"> If you find this notebook useful,support with an upvote👍👍 </span></font></center>\n"
   ]
  },
  {
   "cell_type": "markdown",
   "metadata": {},
   "source": [
    "# <center><font size = 3><span style=\"color:#422711\"> <p style=\"background-color:#422711;font-family:newtimeroman;color:#F6923D;font-size:200%;text-align:center;border-radius:100px 10px;\">INTRODUCTION</p>   </span></font></center>\n",
    " \n",
    "<font size = 5><span style=\"color:#A8642A;font-family:'Times New Roman'\">Notebook Overview : </span></font>\n",
    "\n",
    "* <font size = 3><span style=\"color:#3A3E59;font-family:'Times New Roman'\"> This notebook contains:  </span></font>\n",
    "    1. <font size = 3><span style=\"color:#3A3E59;font-family:'Times New Roman'\">A Encoder Decoder Model which takes an image as an input and outputs a caption </span></font>\n",
    "    2. <font size = 3><span style = \"color:#3A3E59;font-family:'Times New Roman'\">The Encoder used is <a href = \"https://huggingface.co/google/vit-base-patch16-224\"><b>Vision Transformer </b></a> </span></font>\n",
    "    3. <font size =3><span style = \"color:#3A3E59;font-family:'Times New Roman'\">The Decoder used is <a href = \"https://huggingface.co/gpt2\"><b>GPT2</b></a></span></font>\n",
    "    4. <font size =3><span style = \"color:#3A3E59;font-family:'Times New Roman'\"> The model is trained on <b>Flickr8k dataset</b></span></font>\n",
    "    5. <font size =3><span style = \"color:#3A3E59;font-family:'Times New Roman'\"> The hugging face <a href = \"https://huggingface.co/docs/transformers/main_classes/trainer#transformers.Seq2SeqTrainer\"><b>Seq2SeqTrainer</b></a> is used for finetuning the model</span></font>\n",
    "   \n",
    "*  <font size = 3><span style=\"color:#3A3E59;font-family:'Times New Roman'\">The hugging face <b> transformers</b> library is used to finetune the model and <b> Pytorch</b> for data processing </span></font>\n"
   ]
  },
  {
   "cell_type": "markdown",
   "metadata": {},
   "source": [
    "<p style=\"background-color:#422711;font-family:newtimeroman;color:#F6923D;font-size:110%;text-align:center;border-radius:200px 10px;\">IMAGE CAPTIONING</p>\n",
    "<br>\n",
    "\n",
    "<font size = 3><span style = \"color:#3A3E59;font-family:'Times New Roman'\">Image Captioning is the task of describing the content of an image in words. This task lies at the intersection of computer vision and natural language processing. Most image captioning systems use an encoder-decoder framework, where an input image is encoded into an intermediate representation of the information in the image, and then decoded into a descriptive text sequence.</span></font>\n",
    "<br>\n",
    "\n",
    "<img src=\"https://raw.githubusercontent.com/danieljl/keras-image-captioning/master/results-without-errors.jpg\">\n",
    "\n"
   ]
  },
  {
   "cell_type": "markdown",
   "metadata": {},
   "source": [
    "<a id='top'></a>\n",
    "<p style=\"background-color:#422711;font-family:newtimeroman;color:#F6923D;font-size:200%;text-align:center;border-radius:200px 10px;\">TABLE OF CONTENTS</p>  \n",
    "\n",
    "- [1. Imports](#1)\n",
    "- [2. Hyperparameters](#2)\n",
    "- [3. Helper Functions](#3)\n",
    "- [4. Dataset](#4)\n",
    "  * .[4.1 Feature Extractor and Tokenizer](#4.4)\n",
    "  * [4.2 Transforms and dataframe](#4.1)\n",
    "  * [4.3 Dataset Class](#4.2)\n",
    "  * .[4.4 Train and validation dataset](#4.3)\n",
    "- [5. Model Building](#5)\n",
    "    * .[5.1 Model Initialization](#5.2)\n",
    "- [6. Training](#6)\n",
    "    * .[6.1 Training Arguments](#6.1)\n",
    "    * .[6.2 Training using Seq2SeqTrainer](#6.2)\n",
    "- .[7. Predictions](#7)"
   ]
  },
  {
   "cell_type": "code",
   "execution_count": null,
   "metadata": {
    "_cell_guid": "b1076dfc-b9ad-4769-8c92-a6c4dae69d19",
    "_kg_hide-input": true,
    "_uuid": "8f2839f25d086af736a60e9eeb907d3b93b6e0e5",
    "execution": {
     "iopub.execute_input": "2022-12-27T15:00:09.914632Z",
     "iopub.status.busy": "2022-12-27T15:00:09.913828Z",
     "iopub.status.idle": "2022-12-27T15:00:33.94049Z",
     "shell.execute_reply": "2022-12-27T15:00:33.939212Z",
     "shell.execute_reply.started": "2022-12-27T15:00:09.914537Z"
    },
    "trusted": true
   },
   "outputs": [],
   "source": [
    "from IPython.display import clear_output\n",
    "#!pip install rouge_score -q\n",
    "#!pip install deep-phonemizer -q\n",
    "clear_output()"
   ]
  },
  {
   "cell_type": "markdown",
   "metadata": {},
   "source": [
    "<a id=\"1\"></a>\n",
    "# <p style=\"background-color:#422711;font-family:newtimeroman;color:#F6923D;font-size:140%;text-align:center;border-radius:200px 10px;\">1. IMPORTS 📂</p>\n",
    "#### [Top ↑](#top)"
   ]
  },
  {
   "cell_type": "code",
   "execution_count": null,
   "metadata": {
    "_kg_hide-input": true,
    "execution": {
     "iopub.execute_input": "2022-12-27T15:01:41.535276Z",
     "iopub.status.busy": "2022-12-27T15:01:41.534903Z",
     "iopub.status.idle": "2022-12-27T15:01:41.544056Z",
     "shell.execute_reply": "2022-12-27T15:01:41.542985Z",
     "shell.execute_reply.started": "2022-12-27T15:01:41.535244Z"
    },
    "trusted": true
   },
   "outputs": [],
   "source": [
    "import os\n",
    "\n",
    "import datasets\n",
    "import numpy as np\n",
    "import pandas as pd\n",
    "from PIL import Image\n",
    "from pathlib import Path\n",
    "from tqdm.auto import tqdm\n",
    "import multiprocessing as mp\n",
    "import matplotlib.pyplot as plt\n",
    "from sklearn.model_selection import train_test_split\n",
    "\n",
    "import torch\n",
    "import torch.nn as nn\n",
    "import torch.nn.functional as F\n",
    "from torchvision import io, transforms\n",
    "from torch.utils.data import Dataset, DataLoader, random_split\n",
    "\n",
    "from transformers import Seq2SeqTrainer ,Seq2SeqTrainingArguments\n",
    "from transformers import VisionEncoderDecoderModel , ViTFeatureExtractor, ViTImageProcessor\n",
    "from transformers import AutoTokenizer ,  GPT2Config , default_data_collator\n",
    "\n",
    "\n",
    "if torch.cuda.is_available():    \n",
    "\n",
    "    device = torch.device(\"cuda\")\n",
    "\n",
    "    print('There are %d GPU(s) available.' % torch.cuda.device_count())\n",
    "\n",
    "    print('We will use the GPU:', torch.cuda.get_device_name(0))\n",
    "\n",
    "else:\n",
    "    print('No GPU available, using the CPU instead.')\n",
    "    device = torch.device(\"cpu\")\n"
   ]
  },
  {
   "cell_type": "markdown",
   "metadata": {},
   "source": [
    "<a id=\"2\"></a>\n",
    "# <p style=\"background-color:#422711;font-family:newtimeroman;color:#F6923D;font-size:140%;text-align:center;border-radius:200px 10px;\">2. HYPERPARAMETERS</p>\n",
    "#### [Top ↑](#top)"
   ]
  },
  {
   "cell_type": "code",
   "execution_count": null,
   "metadata": {
    "_kg_hide-input": false,
    "execution": {
     "iopub.execute_input": "2022-12-27T15:01:42.820919Z",
     "iopub.status.busy": "2022-12-27T15:01:42.820109Z",
     "iopub.status.idle": "2022-12-27T15:01:42.82854Z",
     "shell.execute_reply": "2022-12-27T15:01:42.827272Z",
     "shell.execute_reply.started": "2022-12-27T15:01:42.820869Z"
    },
    "trusted": true
   },
   "outputs": [],
   "source": [
    "#os.environ[\"WANDB_DISABLED\"] = \"true\"\n",
    "class config : \n",
    "    ENCODER = \"google/vit-base-patch16-224\"\n",
    "    DECODER = \"gpt2\"\n",
    "    TRAIN_BATCH_SIZE = 8\n",
    "    VAL_BATCH_SIZE = 8\n",
    "    VAL_EPOCHS = 1\n",
    "    LR = 5e-5\n",
    "    SEED = 42\n",
    "    MAX_LEN = 128\n",
    "    SUMMARY_LEN = 20\n",
    "    WEIGHT_DECAY = 0.01\n",
    "    MEAN = (0.485, 0.456, 0.406)\n",
    "    STD = (0.229, 0.224, 0.225)\n",
    "    TRAIN_PCT = 0.95\n",
    "    NUM_WORKERS = mp.cpu_count()\n",
    "    EPOCHS = 3\n",
    "    IMG_SIZE = (224,224)\n",
    "    LABEL_MASK = -100\n",
    "    TOP_K = 1000\n",
    "    TOP_P = 0.95"
   ]
  },
  {
   "cell_type": "markdown",
   "metadata": {},
   "source": [
    "<a id=\"3\"></a>\n",
    "# <p style=\"background-color:#422711;font-family:newtimeroman;color:#F6923D;font-size:140%;text-align:center;border-radius:200px 10px;\">3. HELPER FUNCTIONS</p>\n",
    "#### [Top ↑](#top)"
   ]
  },
  {
   "cell_type": "markdown",
   "metadata": {},
   "source": [
    "<font size = 3><span style=\"color:#3A3E59;font-family:'Times New Roman'\"> There are Two helper functions:  </span></font>\n",
    "1. <font size = 3><span style=\"color:#3A3E59;font-family:'Times New Roman'\"> The first function is to <b>build special tokens</b> while tokenizing the captions  </span></font>\n",
    "2. <font size = 3><span style=\"color:#3A3E59;font-family:'Times New Roman'\">The second function is used to compute the <b>ROUGE-2</b> metrics as we are working with Transformers  </span></font>"
   ]
  },
  {
   "cell_type": "code",
   "execution_count": null,
   "metadata": {
    "_kg_hide-input": true,
    "execution": {
     "iopub.execute_input": "2022-12-27T15:01:43.107438Z",
     "iopub.status.busy": "2022-12-27T15:01:43.105529Z",
     "iopub.status.idle": "2022-12-27T15:01:43.113518Z",
     "shell.execute_reply": "2022-12-27T15:01:43.11246Z",
     "shell.execute_reply.started": "2022-12-27T15:01:43.107399Z"
    },
    "trusted": true
   },
   "outputs": [],
   "source": [
    "def build_inputs_with_special_tokens(self, token_ids_0, token_ids_1=None):\n",
    "    outputs = [self.bos_token_id] + token_ids_0 + [self.eos_token_id]\n",
    "    return outputs\n",
    "AutoTokenizer.build_inputs_with_special_tokens = build_inputs_with_special_tokens"
   ]
  },
  {
   "cell_type": "code",
   "execution_count": null,
   "metadata": {
    "_kg_hide-input": true,
    "_kg_hide-output": true,
    "trusted": true
   },
   "outputs": [],
   "source": [
    "#rouge = datasets.load_metric(\"rouge\")\n",
    "#from evaluate import load\n",
    "#import evaluate\n",
    "#rouge = evaluate.load(\"rouge\")\n",
    "from rouge_score import rouge_scorer\n",
    "scorer = rouge_scorer.RougeScorer(['rouge2'], use_stemmer=True)\n",
    "\n",
    "def compute_metrics(pred):\n",
    "    labels_ids = pred.label_ids\n",
    "    pred_ids = pred.predictions\n",
    "\n",
    "    # all unnecessary tokens are removed\n",
    "    pred_str = tokenizer.batch_decode(pred_ids, skip_special_tokens=True)\n",
    "    labels_ids[labels_ids == -100] = tokenizer.pad_token_id\n",
    "    label_str = tokenizer.batch_decode(labels_ids, skip_special_tokens=True)\n",
    "\n",
    "    rouge_output = scorer.score(pred_str, label_str)\n",
    "    #rouge_output = rouge.compute(predictions=pred_str, references=label_str, rouge_types=[\"rouge2\"])[\"rouge2\"].mid\n",
    "\n",
    "    return {\n",
    "        \"rouge2_precision\": round(rouge_output.precision, 4),\n",
    "        \"rouge2_recall\": round(rouge_output.recall, 4),\n",
    "        \"rouge2_fmeasure\": round(rouge_output.fmeasure, 4),\n",
    "    }\n"
   ]
  },
  {
   "cell_type": "markdown",
   "metadata": {},
   "source": [
    "<a id=\"4\"></a>\n",
    "# <p style=\"background-color:#422711;font-family:newtimeroman;color:#F6923D;font-size:140%;text-align:center;border-radius:200px 10px;\">4. DATASET</p>\n"
   ]
  },
  {
   "cell_type": "markdown",
   "metadata": {},
   "source": [
    "<a id=\"4.4\"></a>\n",
    "## <font size = 5><span style=\"color:#A8642A;font-family:'Times New Roman'\">4.1 Feature Extractor and Tokenizer : </span></font>\n",
    "#### [Top ↑](#top)"
   ]
  },
  {
   "cell_type": "markdown",
   "metadata": {},
   "source": [
    "1. <font size = 3><span style=\"color:#3A3E59;font-family:'Times New Roman'\"> The Feature extractor is loaded using <b>ViTFeatureExtractor</b>  </span></font>\n",
    "2. <font size = 3><span style=\"color:#3A3E59;font-family:'Times New Roman'\">The tokenizer for GPT2 is loaded using the <b>AutoTokenizer</b>  </span></font>"
   ]
  },
  {
   "cell_type": "code",
   "execution_count": null,
   "metadata": {
    "_kg_hide-input": true,
    "execution": {
     "iopub.execute_input": "2022-12-27T15:01:43.498151Z",
     "iopub.status.busy": "2022-12-27T15:01:43.497783Z",
     "iopub.status.idle": "2022-12-27T15:01:48.63891Z",
     "shell.execute_reply": "2022-12-27T15:01:48.637899Z",
     "shell.execute_reply.started": "2022-12-27T15:01:43.49812Z"
    },
    "trusted": true
   },
   "outputs": [],
   "source": [
    "feature_extractor =ViTImageProcessor.from_pretrained(config.ENCODER) # ViTFeatureExtractor\n",
    "tokenizer = AutoTokenizer.from_pretrained(config.DECODER)\n",
    "tokenizer.pad_token = tokenizer.unk_token"
   ]
  },
  {
   "cell_type": "markdown",
   "metadata": {},
   "source": [
    "<a id=\"4.1\"></a>\n",
    "## <font size = 5><span style=\"color:#A8642A;font-family:'Times New Roman'\">4.2 Transforms and dataframe : </span></font>\n",
    "#### [Top ↑](#top)"
   ]
  },
  {
   "cell_type": "markdown",
   "metadata": {},
   "source": [
    " <font size = 3><span style=\"color:#3A3E59;font-family:'Times New Roman'\">The Transformations used are </span></font>\n",
    "> 1. <font size = 3><span style=\"color:#3A3E59;font-family:'Times New Roman'\"><b>Resizing</b> the image to (224,224) </span></font>\n",
    "2. <font size = 3><span style=\"color:#3A3E59;font-family:'Times New Roman'\"><b>Normalizing</b> the image</span></font>\n",
    "3. <font size = 3><span style=\"color:#3A3E59;font-family:'Times New Roman'\"> Converting the image to <b>Tensor</b>  </span></font>"
   ]
  },
  {
   "cell_type": "code",
   "execution_count": null,
   "metadata": {
    "_kg_hide-input": true,
    "execution": {
     "iopub.execute_input": "2022-12-27T15:01:48.643099Z",
     "iopub.status.busy": "2022-12-27T15:01:48.642794Z",
     "iopub.status.idle": "2022-12-27T15:01:48.650869Z",
     "shell.execute_reply": "2022-12-27T15:01:48.649821Z",
     "shell.execute_reply.started": "2022-12-27T15:01:48.643071Z"
    },
    "trusted": true
   },
   "outputs": [],
   "source": [
    "transforms = transforms.Compose(\n",
    "    [\n",
    "        transforms.Resize(config.IMG_SIZE), \n",
    "        transforms.PILToTensor(),\n",
    "        #transforms.ToTensor(),\n",
    "        #transforms.Normalize(\n",
    "        #    mean=0.5, \n",
    "        #    std=0.5\n",
    "        #)\n",
    "   ]\n",
    ")\n",
    "df=  pd.read_csv(\"/store/datasets/flickr8k/captions.txt\")\n",
    "train_df , val_df = train_test_split(df , test_size = 0.2)\n",
    "df.head()"
   ]
  },
  {
   "cell_type": "markdown",
   "metadata": {},
   "source": [
    "<a id=\"4.2\"></a>\n",
    "## <font size = 5><span style=\"color:#A8642A;font-family:'Times New Roman'\">4.3 Dataset Class : </span></font>\n",
    "#### [Top ↑](#top)"
   ]
  },
  {
   "cell_type": "markdown",
   "metadata": {},
   "source": [
    "<font size = 3><span style=\"color:#3A3E59;font-family:'Times New Roman'\">The dataset is created using the following steps </span></font>\n",
    "> 1. <font size = 3><span style=\"color:#3A3E59;font-family:'Times New Roman'\">We read the image using the <b>Image</b> function of PIL library </span></font>\n",
    "2. <font size = 3><span style=\"color:#3A3E59;font-family:'Times New Roman'\"> The image is <b>transformed</b> using the transformed defined above</span></font>\n",
    "3. <font size = 3><span style=\"color:#3A3E59;font-family:'Times New Roman'\">The transformed image is passed through the <b>feature extractor</b> to extract the pixel values from the image </span></font>\n",
    "4. <font size = 3><span style=\"color:#3A3E59;font-family:'Times New Roman'\"> The captions are loaded from the dataframe</span></font>\n",
    "5. <font size = 3><span style = \"color:#3A3E59;font-family:'Times New Roman'\">The captions are <b>tokenized</b></span></font>\n",
    "6. <font size = 3><span style = \"color:#3A3E59;font-family:'Times New Roman'\">The tokenized captions are <b>padded</b> to max length</span></font>\n",
    "7. <font size = 3><span style = \"color:#3A3E59;font-family:'Times New Roman'\">The images and tokenized captions are returned</span></font>"
   ]
  },
  {
   "cell_type": "code",
   "execution_count": null,
   "metadata": {
    "_kg_hide-input": false,
    "execution": {
     "iopub.execute_input": "2022-12-27T15:03:04.381125Z",
     "iopub.status.busy": "2022-12-27T15:03:04.380763Z",
     "iopub.status.idle": "2022-12-27T15:03:04.390323Z",
     "shell.execute_reply": "2022-12-27T15:03:04.38924Z",
     "shell.execute_reply.started": "2022-12-27T15:03:04.38109Z"
    },
    "trusted": true
   },
   "outputs": [],
   "source": [
    "class ImgDataset(Dataset):\n",
    "    def __init__(self, df,root_dir,tokenizer,feature_extractor, transform = None):\n",
    "        self.df = df\n",
    "        self.transform = transform\n",
    "        self.root_dir = root_dir\n",
    "        self.tokenizer= tokenizer\n",
    "        self.feature_extractor = feature_extractor\n",
    "        self.max_length = 50\n",
    "    def __len__(self,):\n",
    "        return len(self.df)\n",
    "    def __getitem__(self,idx):\n",
    "        caption = self.df.caption.iloc[idx]\n",
    "        image = self.df.image.iloc[idx]\n",
    "        img_path = os.path.join(self.root_dir , image)\n",
    "        img = Image.open(img_path).convert(\"RGB\")\n",
    "        \n",
    "        if self.transform is not None:\n",
    "            img= self.transform(img)\n",
    "        pixel_values = self.feature_extractor(img, return_tensors=\"pt\").pixel_values\n",
    "        captions = self.tokenizer(caption,\n",
    "                                 padding='max_length',\n",
    "                                 max_length=self.max_length).input_ids\n",
    "        captions = [caption if caption != self.tokenizer.pad_token_id else -100 for caption in captions]\n",
    "        encoding = {\"pixel_values\": pixel_values.squeeze(), \"labels\": torch.tensor(captions)}\n",
    "        return encoding\n",
    "        \n",
    "        "
   ]
  },
  {
   "cell_type": "markdown",
   "metadata": {},
   "source": [
    "<a id=\"4.3\"></a>\n",
    "## <font size = 5><span style=\"color:#A8642A;font-family:'Times New Roman'\">4.4 Train and validation dataset: </span></font>\n",
    "#### [Top ↑](#top)"
   ]
  },
  {
   "cell_type": "code",
   "execution_count": null,
   "metadata": {
    "_kg_hide-input": true,
    "execution": {
     "iopub.execute_input": "2022-12-27T15:03:04.500622Z",
     "iopub.status.busy": "2022-12-27T15:03:04.500044Z",
     "iopub.status.idle": "2022-12-27T15:03:04.505797Z",
     "shell.execute_reply": "2022-12-27T15:03:04.504655Z",
     "shell.execute_reply.started": "2022-12-27T15:03:04.500583Z"
    },
    "trusted": true
   },
   "outputs": [],
   "source": [
    "train_dataset = ImgDataset(train_df, root_dir = \"/store/datasets/flickr8k/Images\",tokenizer=tokenizer,feature_extractor = feature_extractor ,transform = transforms)\n",
    "val_dataset = ImgDataset(val_df , root_dir = \"/store/datasets/flickr8k/Images\",tokenizer=tokenizer,feature_extractor = feature_extractor , transform  = transforms)"
   ]
  },
  {
   "cell_type": "markdown",
   "metadata": {},
   "source": [
    "<a id=\"5\"></a>\n",
    "# <p style=\"background-color:#422711;font-family:newtimeroman;color:#F6923D;font-size:140%;text-align:center;border-radius:200px 10px;\">5. MODEL BUILDING</p>"
   ]
  },
  {
   "cell_type": "markdown",
   "metadata": {},
   "source": [
    "<p style=\"background-color:#422711;font-family:newtimeroman;color:#F6923D;font-size:100%;text-align:center;border-radius:200px 10px;\">ENCODER</p>\n",
    "<br>\n",
    "\n",
    "<img src = \"https://production-media.paperswithcode.com/methods/Screen_Shot_2021-01-26_at_9.43.31_PM_uI4jjMq.png\">\n",
    "\n",
    "<br>\n",
    "<font size = 3><span style = \"color:#3A3E59;font-family:'Times New Roman'\">The Vision Transformer, or ViT, is a model for image classification that employs a Transformer-like architecture over patches of the image. An image is split into fixed-size patches, each of them are then linearly embedded, position embeddings are added, and the resulting sequence of vectors is fed to a standard Transformer encoder. In order to perform classification, the standard approach of adding an extra learnable “classification token” to the sequence is used.</span></font>"
   ]
  },
  {
   "cell_type": "markdown",
   "metadata": {},
   "source": [
    "<p style=\"background-color:#422711;font-family:newtimeroman;color:#F6923D;font-size:100%;text-align:center;border-radius:200px 10px;\">DECODER</p>\n",
    "<br> \n",
    "\n",
    "<img src = \"https://i.stack.imgur.com/7J4O7.png\" >\n",
    "\n",
    "<br>\n",
    "\n",
    "<font size = 3><span style = \"color:#3A3E59;font-family:'Times New Roman'\">GPT-2 is a transformers model pretrained on a very large corpus of English data in a self-supervised fashion. inputs are sequences of continuous text of a certain length and the targets are the same sequence, shifted one token (word or piece of word) to the right. The model uses internally a mask-mechanism to make sure the predictions for the token i only uses the inputs from 1 to i but not the future tokens.</span></font>\n",
    "    \n",
    "<font size = 3><span style = \"color:#3A3E59;font-family:'Times New Roman'\">This way, the model learns an inner representation of the English language that can then be used to extract features useful for downstream tasks. The model is best at what it was pretrained for however, which is generating texts from a prompt.</span></font>\n",
    "    "
   ]
  },
  {
   "cell_type": "markdown",
   "metadata": {},
   "source": [
    "<a id=\"5.1\"></a>\n",
    "## <font size = 5><span style=\"color:#A8642A;font-family:'Times New Roman'\">5.1 Model Initialization : </span></font>\n",
    "#### [Top ↑](#top)"
   ]
  },
  {
   "cell_type": "code",
   "execution_count": null,
   "metadata": {
    "_kg_hide-input": false,
    "_kg_hide-output": true,
    "execution": {
     "iopub.execute_input": "2022-12-27T15:01:52.755746Z",
     "iopub.status.busy": "2022-12-27T15:01:52.754916Z",
     "iopub.status.idle": "2022-12-27T15:03:04.378701Z",
     "shell.execute_reply": "2022-12-27T15:03:04.377724Z",
     "shell.execute_reply.started": "2022-12-27T15:01:52.7557Z"
    },
    "trusted": true
   },
   "outputs": [],
   "source": [
    "model = VisionEncoderDecoderModel.from_encoder_decoder_pretrained(config.ENCODER, config.DECODER)"
   ]
  },
  {
   "cell_type": "code",
   "execution_count": null,
   "metadata": {
    "_kg_hide-input": true
   },
   "outputs": [],
   "source": [
    "model.config.decoder_start_token_id = tokenizer.cls_token_id\n",
    "model.config.pad_token_id = tokenizer.pad_token_id\n",
    "# make sure vocab size is set correctly\n",
    "model.config.vocab_size = model.config.decoder.vocab_size\n",
    "# set beam search parameters\n",
    "model.config.eos_token_id = tokenizer.sep_token_id\n",
    "model.config.decoder_start_token_id = tokenizer.bos_token_id\n",
    "model.config.max_length = 128\n",
    "model.config.early_stopping = True\n",
    "model.config.no_repeat_ngram_size = 3\n",
    "model.config.length_penalty = 2.0\n",
    "model.config.num_beams = 4"
   ]
  },
  {
   "cell_type": "markdown",
   "metadata": {},
   "source": [
    "<a id=\"6\"></a>\n",
    "# <p style=\"background-color:#422711;font-family:newtimeroman;color:#F6923D;font-size:140%;text-align:center;border-radius:200px 10px;\">6. TRAINING</p>"
   ]
  },
  {
   "cell_type": "markdown",
   "metadata": {},
   "source": [
    "<a id=\"6.1\"></a>\n",
    "### <font size = 5><span style=\"color:#A8642A;font-family:'Times New Roman'\">6.1 Training Arguments : </span></font>\n",
    "#### [Top ↑](#top)"
   ]
  },
  {
   "cell_type": "code",
   "execution_count": null,
   "metadata": {
    "_kg_hide-input": true,
    "execution": {
     "iopub.execute_input": "2022-12-27T15:03:05.861305Z",
     "iopub.status.busy": "2022-12-27T15:03:05.860831Z",
     "iopub.status.idle": "2022-12-27T15:03:05.872477Z",
     "shell.execute_reply": "2022-12-27T15:03:05.871514Z",
     "shell.execute_reply.started": "2022-12-27T15:03:05.861267Z"
    },
    "trusted": true
   },
   "outputs": [],
   "source": [
    "training_args = Seq2SeqTrainingArguments(\n",
    "    output_dir='VIT_large_gpt2',\n",
    "    per_device_train_batch_size=config.TRAIN_BATCH_SIZE,\n",
    "    per_device_eval_batch_size=config.VAL_BATCH_SIZE,\n",
    "    predict_with_generate=True,\n",
    "    #evaluation_strategy=\"epoch\",\n",
    "    do_train=True,\n",
    "    do_eval=True,\n",
    "    logging_steps=1024,  \n",
    "    save_steps=2048, \n",
    "    warmup_steps=1024,  \n",
    "    learning_rate = 5e-5,\n",
    "    #max_steps=1500, # delete for full training\n",
    "    num_train_epochs = config.EPOCHS, #TRAIN_EPOCHS\n",
    "    overwrite_output_dir=True,\n",
    "    save_total_limit=1,\n",
    ")"
   ]
  },
  {
   "cell_type": "markdown",
   "metadata": {},
   "source": [
    "<a id=\"6.2\"></a>\n",
    "### <font size = 5><span style=\"color:#A8642A;font-family:'Times New Roman'\">6.2 Training using Seq2SeqTrainer : </span></font>\n",
    "#### [Top ↑](#top)"
   ]
  },
  {
   "cell_type": "code",
   "execution_count": null,
   "metadata": {
    "execution": {
     "iopub.execute_input": "2022-12-27T15:03:05.874387Z",
     "iopub.status.busy": "2022-12-27T15:03:05.873981Z"
    },
    "trusted": true
   },
   "outputs": [],
   "source": [
    "# instantiate trainer\n",
    "trainer = Seq2SeqTrainer(\n",
    "    tokenizer=feature_extractor,\n",
    "    model=model,\n",
    "    args=training_args,\n",
    "    compute_metrics=compute_metrics,\n",
    "    train_dataset=train_dataset,\n",
    "    eval_dataset=val_dataset,\n",
    "    data_collator=default_data_collator,\n",
    ")\n",
    "trainer.train()"
   ]
  },
  {
   "cell_type": "code",
   "execution_count": null,
   "metadata": {
    "_kg_hide-input": true,
    "trusted": true
   },
   "outputs": [],
   "source": [
    "trainer.save_model('VIT_large_gpt2')"
   ]
  },
  {
   "cell_type": "markdown",
   "metadata": {},
   "source": [
    "<a id=\"7\"></a>\n",
    "# <p style=\"background-color:#422711;font-family:newtimeroman;color:#F6923D;font-size:140%;text-align:center;border-radius:200px 10px;\">7. PREDICTIONS</p>\n",
    "#### [Top ↑](#top)"
   ]
  },
  {
   "cell_type": "code",
   "execution_count": null,
   "metadata": {
    "_kg_hide-input": true,
    "trusted": true
   },
   "outputs": [],
   "source": [
    "img =  Image.open(\"/kaggle/input/flickr8k/Images/1001773457_577c3a7d70.jpg\").convert(\"RGB\")\n",
    "img"
   ]
  },
  {
   "cell_type": "code",
   "execution_count": null,
   "metadata": {
    "_kg_hide-input": true,
    "trusted": true
   },
   "outputs": [],
   "source": [
    "generated_caption = tokenizer.decode(model.generate(feature_extractor(img, return_tensors=\"pt\").pixel_values.to(\"cuda\"))[0])\n",
    "print('\\033[96m' +generated_caption[:85]+ '\\033[0m')"
   ]
  },
  {
   "cell_type": "code",
   "execution_count": null,
   "metadata": {
    "_kg_hide-input": true,
    "trusted": true
   },
   "outputs": [],
   "source": [
    "img =  Image.open(\"/kaggle/input/flickr8k/Images/1000268201_693b08cb0e.jpg\").convert(\"RGB\")\n",
    "img"
   ]
  },
  {
   "cell_type": "code",
   "execution_count": null,
   "metadata": {
    "_kg_hide-input": true,
    "trusted": true
   },
   "outputs": [],
   "source": [
    "generated_caption = tokenizer.decode(model.generate(feature_extractor(img, return_tensors=\"pt\").pixel_values.to(\"cuda\"))[0])\n",
    "print('\\033[96m' +generated_caption[:120]+ '\\033[0m')"
   ]
  },
  {
   "cell_type": "markdown",
   "metadata": {},
   "source": [
    "# <center><font size = 3><span style=\"color:#F6923D\"><b> Thank You for reading 😊<br>If you have any suggestions or feeback, please let me know</b></span></font></center>\n",
    "#### [Top ↑](#top)"
   ]
  }
 ],
 "metadata": {
  "kaggle": {
   "accelerator": "gpu",
   "dataSources": [
    {
     "datasetId": 623289,
     "sourceId": 1111676,
     "sourceType": "datasetVersion"
    }
   ],
   "dockerImageVersionId": 30302,
   "isGpuEnabled": true,
   "isInternetEnabled": true,
   "language": "python",
   "sourceType": "notebook"
  },
  "kernelspec": {
   "display_name": "torch",
   "language": "python",
   "name": "torch"
  },
  "language_info": {
   "codemirror_mode": {
    "name": "ipython",
    "version": 3
   },
   "file_extension": ".py",
   "mimetype": "text/x-python",
   "name": "python",
   "nbconvert_exporter": "python",
   "pygments_lexer": "ipython3",
   "version": "3.12.3"
  }
 },
 "nbformat": 4,
 "nbformat_minor": 4
}
